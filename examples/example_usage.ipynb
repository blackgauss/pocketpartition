{
 "cells": [
  {
   "cell_type": "markdown",
   "metadata": {},
   "source": [
    "# Make a Numerical Semigroup"
   ]
  },
  {
   "cell_type": "code",
   "execution_count": 16,
   "metadata": {},
   "outputs": [],
   "source": [
    "import sys\n",
    "import os\n",
    "\n",
    "# Assuming the notebook is in the examples directory and the package is one level up\n",
    "notebook_dir = os.path.dirname(os.path.abspath('__file__'))\n",
    "package_root = os.path.abspath(os.path.join(notebook_dir, '..'))\n",
    "sys.path.insert(0, package_root)\n",
    "\n",
    "from src.pocketpartition.core.numerical import NumericalSemigroup, NumericalSet\n",
    "from src.pocketpartition.core.random_numerical import RandomNumericalSemigroupWithGenus"
   ]
  },
  {
   "cell_type": "code",
   "execution_count": 17,
   "metadata": {},
   "outputs": [],
   "source": [
    "S = NumericalSemigroup(gaps={1,2,3,4,5})"
   ]
  },
  {
   "cell_type": "code",
   "execution_count": 7,
   "metadata": {},
   "outputs": [
    {
     "data": {
      "text/plain": [
       "[6, 7, 8, 9, 10, 11]"
      ]
     },
     "execution_count": 7,
     "metadata": {},
     "output_type": "execute_result"
    }
   ],
   "source": [
    "S.minimal_generating_set()"
   ]
  },
  {
   "cell_type": "code",
   "execution_count": 11,
   "metadata": {},
   "outputs": [
    {
     "data": {
      "text/plain": [
       "[NumericalSemigroup(gaps=[1, 2, 3, 4, 5, 6], frobenius_number=6),\n",
       " NumericalSemigroup(gaps=[1, 2, 3, 4, 5, 7], frobenius_number=7),\n",
       " NumericalSemigroup(gaps=[1, 2, 3, 4, 5, 8], frobenius_number=8),\n",
       " NumericalSemigroup(gaps=[1, 2, 3, 4, 5, 9], frobenius_number=9),\n",
       " NumericalSemigroup(gaps=[1, 2, 3, 4, 5, 10], frobenius_number=10),\n",
       " NumericalSemigroup(gaps=[1, 2, 3, 4, 5, 11], frobenius_number=11)]"
      ]
     },
     "execution_count": 11,
     "metadata": {},
     "output_type": "execute_result"
    }
   ],
   "source": [
    "S.get_children()"
   ]
  },
  {
   "cell_type": "code",
   "execution_count": 17,
   "metadata": {},
   "outputs": [
    {
     "data": {
      "text/plain": [
       "[153,\n",
       " 129,\n",
       " 118,\n",
       " 106,\n",
       " 106,\n",
       " 96,\n",
       " 96,\n",
       " 86,\n",
       " 86,\n",
       " 86,\n",
       " 76,\n",
       " 76,\n",
       " 70,\n",
       " 67,\n",
       " 67,\n",
       " 67,\n",
       " 58,\n",
       " 58,\n",
       " 58,\n",
       " 57,\n",
       " 53,\n",
       " 53,\n",
       " 51,\n",
       " 51,\n",
       " 51,\n",
       " 46,\n",
       " 43,\n",
       " 43,\n",
       " 43,\n",
       " 42,\n",
       " 38,\n",
       " 38,\n",
       " 37,\n",
       " 37,\n",
       " 37,\n",
       " 37,\n",
       " 37,\n",
       " 33,\n",
       " 33,\n",
       " 31,\n",
       " 31,\n",
       " 31,\n",
       " 31,\n",
       " 31,\n",
       " 28,\n",
       " 28,\n",
       " 28,\n",
       " 27,\n",
       " 27,\n",
       " 27,\n",
       " 27,\n",
       " 27,\n",
       " 23,\n",
       " 23,\n",
       " 22,\n",
       " 22,\n",
       " 22,\n",
       " 22,\n",
       " 22,\n",
       " 22,\n",
       " 19,\n",
       " 19,\n",
       " 19,\n",
       " 18,\n",
       " 18,\n",
       " 18,\n",
       " 18,\n",
       " 18,\n",
       " 15,\n",
       " 15,\n",
       " 15,\n",
       " 14,\n",
       " 14,\n",
       " 14,\n",
       " 14,\n",
       " 14,\n",
       " 14,\n",
       " 14,\n",
       " 12,\n",
       " 12,\n",
       " 12,\n",
       " 12,\n",
       " 12,\n",
       " 12,\n",
       " 12,\n",
       " 12,\n",
       " 12,\n",
       " 9,\n",
       " 9,\n",
       " 9,\n",
       " 8,\n",
       " 8,\n",
       " 8,\n",
       " 8,\n",
       " 8,\n",
       " 8,\n",
       " 8,\n",
       " 7,\n",
       " 7,\n",
       " 7,\n",
       " 7,\n",
       " 7,\n",
       " 7,\n",
       " 7,\n",
       " 7,\n",
       " 7,\n",
       " 7,\n",
       " 7,\n",
       " 5,\n",
       " 5,\n",
       " 5,\n",
       " 5,\n",
       " 5,\n",
       " 5,\n",
       " 5,\n",
       " 5,\n",
       " 5,\n",
       " 5,\n",
       " 5,\n",
       " 4,\n",
       " 4,\n",
       " 4,\n",
       " 4,\n",
       " 4,\n",
       " 4,\n",
       " 4,\n",
       " 4,\n",
       " 4,\n",
       " 4,\n",
       " 4,\n",
       " 3,\n",
       " 3,\n",
       " 3,\n",
       " 3,\n",
       " 3,\n",
       " 3,\n",
       " 3,\n",
       " 3,\n",
       " 3,\n",
       " 3,\n",
       " 3,\n",
       " 3,\n",
       " 2,\n",
       " 2,\n",
       " 2,\n",
       " 2,\n",
       " 2,\n",
       " 2,\n",
       " 2,\n",
       " 2,\n",
       " 2,\n",
       " 2,\n",
       " 2,\n",
       " 1,\n",
       " 1,\n",
       " 1,\n",
       " 1,\n",
       " 1,\n",
       " 1,\n",
       " 1,\n",
       " 1,\n",
       " 1,\n",
       " 1,\n",
       " 1,\n",
       " 1,\n",
       " 1,\n",
       " 1,\n",
       " 1,\n",
       " 1,\n",
       " 1,\n",
       " 1,\n",
       " 1,\n",
       " 1,\n",
       " 1,\n",
       " 1,\n",
       " 1,\n",
       " 1]"
      ]
     },
     "execution_count": 17,
     "metadata": {},
     "output_type": "execute_result"
    }
   ],
   "source": [
    "S.partition()"
   ]
  },
  {
   "cell_type": "code",
   "execution_count": 4,
   "metadata": {},
   "outputs": [],
   "source": [
    "S = NumericalSemigroup(gaps=range(1,6))"
   ]
  },
  {
   "cell_type": "code",
   "execution_count": 5,
   "metadata": {},
   "outputs": [
    {
     "data": {
      "text/plain": [
       "<pocketpartition.numerical.NumericalSemigroup at 0x2146f1874d0>"
      ]
     },
     "execution_count": 5,
     "metadata": {},
     "output_type": "execute_result"
    }
   ],
   "source": [
    "S"
   ]
  },
  {
   "cell_type": "code",
   "execution_count": 8,
   "metadata": {},
   "outputs": [
    {
     "data": {
      "text/plain": [
       "{0, 7, 8, 9, 10, 11}"
      ]
     },
     "execution_count": 8,
     "metadata": {},
     "output_type": "execute_result"
    }
   ],
   "source": [
    "S.apery_set(6)"
   ]
  },
  {
   "cell_type": "code",
   "execution_count": 12,
   "metadata": {},
   "outputs": [
    {
     "data": {
      "text/plain": [
       "[3, 4, 5]"
      ]
     },
     "execution_count": 12,
     "metadata": {},
     "output_type": "execute_result"
    }
   ],
   "source": [
    "S.special_gaps()"
   ]
  },
  {
   "cell_type": "code",
   "execution_count": 11,
   "metadata": {},
   "outputs": [
    {
     "data": {
      "text/plain": [
       "[<pocketpartition.numerical.NumericalSemigroup at 0x1be3b7c7890>,\n",
       " <pocketpartition.numerical.NumericalSemigroup at 0x1be3b7c6810>]"
      ]
     },
     "execution_count": 11,
     "metadata": {},
     "output_type": "execute_result"
    }
   ],
   "source": [
    "S.get_frobchildren()"
   ]
  },
  {
   "cell_type": "code",
   "execution_count": 31,
   "metadata": {},
   "outputs": [
    {
     "data": {
      "text/plain": [
       "[8, 3, 2, 1, 1, 1, 1, 1]"
      ]
     },
     "execution_count": 31,
     "metadata": {},
     "output_type": "execute_result"
    }
   ],
   "source": [
    "S = NumericalSemigroup(gaps=range(1,16))\n",
    "while len(S.special_gaps()) > 1:\n",
    "    l = [p for p in S.special_gaps() if p != S.frobenius_number]\n",
    "    S = S.add_specialgap(random.choice(l))\n",
    "S.partition()"
   ]
  },
  {
   "cell_type": "code",
   "execution_count": 26,
   "metadata": {},
   "outputs": [
    {
     "data": {
      "text/plain": [
       "[8, 1, 1, 1, 1, 1, 1, 1]"
      ]
     },
     "execution_count": 26,
     "metadata": {},
     "output_type": "execute_result"
    }
   ],
   "source": [
    "S.partition()"
   ]
  },
  {
   "cell_type": "code",
   "execution_count": 61,
   "metadata": {},
   "outputs": [],
   "source": [
    "def count_paths_dfs(node):\n",
    "    # If the node has no children, it's a leaf node, so return 0\n",
    "    if not node.get_frobchildren():\n",
    "        return 0\n",
    "\n",
    "    # Initialize a variable to keep track of the number of paths\n",
    "    total_paths = 0\n",
    "\n",
    "    # Recursively count paths for each child\n",
    "    for child in node.get_frobchildren():\n",
    "        total_paths += count_paths_dfs(child) + 1  # Add 1 for each path to a child\n",
    "\n",
    "    return total_paths\n",
    "\n",
    "def count_all_paths(node):\n",
    "    # Initialize the total number of paths with the count of paths from the current node\n",
    "    total_paths = count_paths_dfs(node)\n",
    "\n",
    "    # Recursively count paths for each child and add to the total\n",
    "    for child in node.get_frobchildren():\n",
    "        total_paths += count_all_paths(child)\n",
    "\n",
    "    return total_paths"
   ]
  },
  {
   "cell_type": "code",
   "execution_count": 57,
   "metadata": {},
   "outputs": [
    {
     "data": {
      "text/plain": [
       "[5]"
      ]
     },
     "execution_count": 57,
     "metadata": {},
     "output_type": "execute_result"
    }
   ],
   "source": [
    "NumericalSemigroup(gaps={1,3,5}).special_gaps()"
   ]
  },
  {
   "cell_type": "code",
   "execution_count": 65,
   "metadata": {},
   "outputs": [
    {
     "data": {
      "text/plain": [
       "1"
      ]
     },
     "execution_count": 65,
     "metadata": {},
     "output_type": "execute_result"
    }
   ],
   "source": [
    "count_paths_dfs(NumericalSemigroup(gaps={1,2,3,4}))"
   ]
  },
  {
   "cell_type": "code",
   "execution_count": 64,
   "metadata": {},
   "outputs": [
    {
     "data": {
      "text/plain": [
       "5"
      ]
     },
     "execution_count": 64,
     "metadata": {},
     "output_type": "execute_result"
    }
   ],
   "source": [
    "count_paths_dfs(NumericalSemigroup(gaps={1,2,3,4,5}))"
   ]
  },
  {
   "cell_type": "code",
   "execution_count": 54,
   "metadata": {},
   "outputs": [],
   "source": [
    "def count_paths_dfs(node):\n",
    "    # If the node has no children, it's a leaf node, so return (0, 1) for leaf nodes\n",
    "    if not node.get_frobchildren():\n",
    "        return (0, 1)\n",
    "\n",
    "    # Initialize variables to keep track of the number of paths to non-leaf and leaf nodes\n",
    "    non_leaf_paths = 0\n",
    "    leaf_paths = 0\n",
    "\n",
    "    # Recursively count paths for each child\n",
    "    for child in node.get_frobchildren():\n",
    "        child_non_leaf_paths, child_leaf_paths = count_paths_dfs(child)\n",
    "        non_leaf_paths += child_non_leaf_paths + 1  # Count path to each child as non-leaf\n",
    "        leaf_paths += child_leaf_paths\n",
    "\n",
    "    return (non_leaf_paths, leaf_paths)\n",
    "\n",
    "def count_all_paths(node):\n",
    "    # Initialize variables to keep track of the total number of paths\n",
    "    total_non_leaf_paths, total_leaf_paths = count_paths_dfs(node)\n",
    "\n",
    "    # Recursively count paths for each child and add to the totals\n",
    "    for child in node.get_frobchildren():\n",
    "        child_non_leaf_paths, child_leaf_paths = count_all_paths(child)\n",
    "        total_non_leaf_paths += child_non_leaf_paths\n",
    "        total_leaf_paths += child_leaf_paths\n",
    "\n",
    "    return (total_non_leaf_paths, total_leaf_paths)"
   ]
  },
  {
   "cell_type": "code",
   "execution_count": 20,
   "metadata": {},
   "outputs": [],
   "source": [
    "def count_descendants_and_leaves(node, visited=None):\n",
    "    if visited is None:\n",
    "        visited = set()\n",
    "\n",
    "    # If the node is already visited, return (0, 0) to prevent counting it multiple times\n",
    "    if node.gaps in visited:\n",
    "        return (0, 0)\n",
    "\n",
    "    # Mark the node as visited\n",
    "    visited.add(node.gaps)\n",
    "\n",
    "    # If the node has no children, it's a leaf node\n",
    "    if not node.get_frobchildren():\n",
    "        return (0, 1)\n",
    "\n",
    "    # Initialize variables to keep track of the number of descendants and leaf nodes\n",
    "    total_descendants = 0\n",
    "    total_leaves = 0\n",
    "\n",
    "    # Recursively count descendants and leaves for each child\n",
    "    for child in node.get_frobchildren():\n",
    "        child_descendants, child_leaves = count_descendants_and_leaves(child, visited)\n",
    "        total_descendants += child_descendants + 1 # Each child is a direct descendant\n",
    "        total_leaves += child_leaves\n",
    "\n",
    "    return (total_descendants, total_leaves)\n"
   ]
  },
  {
   "cell_type": "code",
   "execution_count": 21,
   "metadata": {},
   "outputs": [
    {
     "data": {
      "text/plain": [
       "(5, 2)"
      ]
     },
     "execution_count": 21,
     "metadata": {},
     "output_type": "execute_result"
    }
   ],
   "source": [
    "count_descendants_and_leaves(NumericalSemigroup(gaps={1,2,3,4,5}))"
   ]
  },
  {
   "cell_type": "code",
   "execution_count": 22,
   "metadata": {},
   "outputs": [],
   "source": [
    "(a, b) = count_descendants_and_leaves(NumericalSemigroup(gaps={1,2,3,4,5}))"
   ]
  },
  {
   "cell_type": "code",
   "execution_count": 17,
   "metadata": {},
   "outputs": [
    {
     "data": {
      "text/plain": [
       "(8, 3)"
      ]
     },
     "execution_count": 17,
     "metadata": {},
     "output_type": "execute_result"
    }
   ],
   "source": [
    "count_descendants_and_leaves(NumericalSemigroup(gaps=range(1, F+1)))"
   ]
  },
  {
   "cell_type": "code",
   "execution_count": 15,
   "metadata": {},
   "outputs": [
    {
     "data": {
      "text/plain": [
       "45"
      ]
     },
     "execution_count": 15,
     "metadata": {},
     "output_type": "execute_result"
    }
   ],
   "source": [
    "F = 7\n",
    "(a, b) = count_descendants_and_leaves(NumericalSemigroup(gaps=range(1, F+1)))\n",
    "(2**(F-1)) - (2*a + b)"
   ]
  },
  {
   "cell_type": "code",
   "execution_count": 10,
   "metadata": {},
   "outputs": [
    {
     "data": {
      "text/plain": [
       "(1, 1)"
      ]
     },
     "execution_count": 10,
     "metadata": {},
     "output_type": "execute_result"
    }
   ],
   "source": [
    "count_descendants_and_leaves(NumericalSemigroup(gaps={1,2,3}))"
   ]
  },
  {
   "cell_type": "code",
   "execution_count": 55,
   "metadata": {},
   "outputs": [
    {
     "data": {
      "text/plain": [
       "(5, 3)"
      ]
     },
     "execution_count": 55,
     "metadata": {},
     "output_type": "execute_result"
    }
   ],
   "source": [
    "count_paths_dfs(NumericalSemigroup(gaps={1,2,3,4,5}))"
   ]
  },
  {
   "cell_type": "code",
   "execution_count": 14,
   "metadata": {},
   "outputs": [],
   "source": [
    "S = RandomGraphWalk(NumericalSemigroup(gaps={1,2,3,4,5,6,7}), 500)"
   ]
  },
  {
   "cell_type": "code",
   "execution_count": 15,
   "metadata": {},
   "outputs": [],
   "source": [
    "S2 = RandomGraphWalk(S, 200)"
   ]
  },
  {
   "cell_type": "code",
   "execution_count": 16,
   "metadata": {},
   "outputs": [],
   "source": [
    "S3 = RandomGraphWalk(S2, 100)"
   ]
  },
  {
   "cell_type": "code",
   "execution_count": 17,
   "metadata": {},
   "outputs": [
    {
     "data": {
      "text/plain": [
       "807"
      ]
     },
     "execution_count": 17,
     "metadata": {},
     "output_type": "execute_result"
    }
   ],
   "source": [
    "len(S3.gaps)"
   ]
  },
  {
   "cell_type": "code",
   "execution_count": 18,
   "metadata": {},
   "outputs": [],
   "source": [
    "T = RandomGraphWalk(S3, 500)"
   ]
  },
  {
   "cell_type": "code",
   "execution_count": 27,
   "metadata": {},
   "outputs": [],
   "source": [
    "T2 = RandomGraphWalk(T, 100)"
   ]
  },
  {
   "cell_type": "code",
   "execution_count": null,
   "metadata": {},
   "outputs": [],
   "source": []
  },
  {
   "cell_type": "code",
   "execution_count": 3,
   "metadata": {},
   "outputs": [],
   "source": [
    "S = NumericalSemigroup(gaps={1,2,3})"
   ]
  },
  {
   "cell_type": "code",
   "execution_count": 3,
   "metadata": {},
   "outputs": [
    {
     "data": {
      "text/plain": [
       "[[5, 6, 7, 8, 9], [4, 6, 7, 9], [4, 5, 7], [4, 5, 6]]"
      ]
     },
     "execution_count": 3,
     "metadata": {},
     "output_type": "execute_result"
    }
   ],
   "source": [
    "[s.minimal_generating_set() for s in S.get_children()]"
   ]
  },
  {
   "cell_type": "code",
   "execution_count": 5,
   "metadata": {},
   "outputs": [
    {
     "data": {
      "text/plain": [
       "[2, 3]"
      ]
     },
     "execution_count": 5,
     "metadata": {},
     "output_type": "execute_result"
    }
   ],
   "source": [
    "S.get_parent().minimal_generating_set()"
   ]
  },
  {
   "cell_type": "code",
   "execution_count": 2,
   "metadata": {},
   "outputs": [],
   "source": [
    "S1 = NumericalSemigroup(gaps = {1,2,5}) # Using Gaps\n",
    "S2 = NumericalSemigroup(generators= {3, 4}) # From Generators"
   ]
  },
  {
   "cell_type": "code",
   "execution_count": 3,
   "metadata": {},
   "outputs": [
    {
     "name": "stdout",
     "output_type": "stream",
     "text": [
      "5\n",
      "3\n",
      "[3, 4]\n",
      "{0, 3, 4, 6, 7, 8, 9, 11, 12, 15}\n",
      "2\n"
     ]
    }
   ],
   "source": [
    "print(S1.frobenius_number)\n",
    "print(S2.multiplicity())\n",
    "print(S1.minimal_generating_set())\n",
    "print(S1.apery_set(10))\n",
    "print(S1.effective_weight())"
   ]
  },
  {
   "cell_type": "code",
   "execution_count": 2,
   "metadata": {},
   "outputs": [],
   "source": [
    "S3 = NumericalSemigroup(gaps={1,2,4,5,7})"
   ]
  },
  {
   "cell_type": "code",
   "execution_count": 3,
   "metadata": {},
   "outputs": [
    {
     "name": "stdout",
     "output_type": "stream",
     "text": [
      "[5, 7]\n",
      "2\n"
     ]
    }
   ],
   "source": [
    "print(S3.pseudofrobenius_numbers())\n",
    "print(S3.type())"
   ]
  },
  {
   "cell_type": "code",
   "execution_count": 6,
   "metadata": {},
   "outputs": [],
   "source": [
    "S3 = NumericalSemigroup(generators = {3, 17, 19})"
   ]
  },
  {
   "cell_type": "code",
   "execution_count": 3,
   "metadata": {},
   "outputs": [
    {
     "data": {
      "text/plain": [
       "{0, 3, 5, 6}"
      ]
     },
     "execution_count": 3,
     "metadata": {},
     "output_type": "execute_result"
    }
   ],
   "source": [
    "S3.apery_set(4)"
   ]
  },
  {
   "cell_type": "code",
   "execution_count": 7,
   "metadata": {},
   "outputs": [
    {
     "data": {
      "text/plain": [
       "[6, 9, 17, 19, 20, 22]"
      ]
     },
     "execution_count": 7,
     "metadata": {},
     "output_type": "execute_result"
    }
   ],
   "source": [
    "S3.remove_minimal_generator(3).minimal_generating_set()"
   ]
  },
  {
   "cell_type": "code",
   "execution_count": 3,
   "metadata": {},
   "outputs": [],
   "source": [
    "lst = list(S3.apery_set(49))"
   ]
  },
  {
   "cell_type": "code",
   "execution_count": 4,
   "metadata": {},
   "outputs": [],
   "source": [
    "lst[0] = 49; lst[1] = 3 + 49"
   ]
  },
  {
   "cell_type": "code",
   "execution_count": 22,
   "metadata": {},
   "outputs": [
    {
     "ename": "KeyboardInterrupt",
     "evalue": "",
     "output_type": "error",
     "traceback": [
      "\u001b[1;31m---------------------------------------------------------------------------\u001b[0m",
      "\u001b[1;31mKeyboardInterrupt\u001b[0m                         Traceback (most recent call last)",
      "Cell \u001b[1;32mIn[22], line 1\u001b[0m\n\u001b[1;32m----> 1\u001b[0m \u001b[43mNumericalSemigroup\u001b[49m\u001b[43m(\u001b[49m\u001b[43mgenerators\u001b[49m\u001b[38;5;241;43m=\u001b[39;49m\u001b[43mlst\u001b[49m\u001b[43m)\u001b[49m\n",
      "File \u001b[1;32mc:\\Users\\eimat\\Documents\\pocketpartition\\pocketpartition\\numerical.py:112\u001b[0m, in \u001b[0;36mNumericalSemigroup.__init__\u001b[1;34m(self, gaps, generators)\u001b[0m\n\u001b[0;32m    100\u001b[0m \u001b[38;5;250m\u001b[39m\u001b[38;5;124;03m\"\"\"\u001b[39;00m\n\u001b[0;32m    101\u001b[0m \u001b[38;5;124;03mInitialize the numerical semigroup with its gaps or generators.\u001b[39;00m\n\u001b[0;32m    102\u001b[0m \n\u001b[1;32m   (...)\u001b[0m\n\u001b[0;32m    108\u001b[0m \u001b[38;5;124;03mValueError: If the atom monoid of the numerical set is not equal to the set itself.\u001b[39;00m\n\u001b[0;32m    109\u001b[0m \u001b[38;5;124;03m\"\"\"\u001b[39;00m\n\u001b[0;32m    110\u001b[0m \u001b[38;5;28;01mif\u001b[39;00m generators \u001b[38;5;129;01mis\u001b[39;00m \u001b[38;5;129;01mnot\u001b[39;00m \u001b[38;5;28;01mNone\u001b[39;00m:\n\u001b[0;32m    111\u001b[0m     \u001b[38;5;66;03m# If generators are provided, compute the gaps from the generators\u001b[39;00m\n\u001b[1;32m--> 112\u001b[0m     \u001b[38;5;28mself\u001b[39m\u001b[38;5;241m.\u001b[39mgaps \u001b[38;5;241m=\u001b[39m \u001b[38;5;28;43mself\u001b[39;49m\u001b[38;5;241;43m.\u001b[39;49m\u001b[43m_compute_gaps_from_generators\u001b[49m\u001b[43m(\u001b[49m\u001b[43mgenerators\u001b[49m\u001b[43m)\u001b[49m\n\u001b[0;32m    113\u001b[0m \u001b[38;5;28;01melse\u001b[39;00m:\n\u001b[0;32m    114\u001b[0m     \u001b[38;5;28msuper\u001b[39m()\u001b[38;5;241m.\u001b[39m\u001b[38;5;21m__init__\u001b[39m(gaps)\n",
      "File \u001b[1;32mc:\\Users\\eimat\\Documents\\pocketpartition\\pocketpartition\\numerical.py:140\u001b[0m, in \u001b[0;36mNumericalSemigroup._compute_gaps_from_generators\u001b[1;34m(self, generators)\u001b[0m\n\u001b[0;32m    138\u001b[0m         \u001b[38;5;28;01mif\u001b[39;00m i \u001b[38;5;241m-\u001b[39m g \u001b[38;5;129;01min\u001b[39;00m semigroup \u001b[38;5;129;01mor\u001b[39;00m i \u001b[38;5;241m-\u001b[39m g \u001b[38;5;241m==\u001b[39m \u001b[38;5;241m0\u001b[39m:\n\u001b[0;32m    139\u001b[0m             semigroup\u001b[38;5;241m.\u001b[39madd(i)\n\u001b[1;32m--> 140\u001b[0m             \u001b[38;5;28;01mbreak\u001b[39;00m\n\u001b[0;32m    142\u001b[0m \u001b[38;5;66;03m# Identify the gaps, excluding 0\u001b[39;00m\n\u001b[0;32m    143\u001b[0m gaps \u001b[38;5;241m=\u001b[39m \u001b[38;5;28mset\u001b[39m(\u001b[38;5;28mrange\u001b[39m(\u001b[38;5;241m1\u001b[39m, bound)) \u001b[38;5;241m-\u001b[39m semigroup\n",
      "\u001b[1;31mKeyboardInterrupt\u001b[0m: "
     ]
    }
   ],
   "source": [
    "NumericalSemigroup(generators=lst)"
   ]
  },
  {
   "cell_type": "code",
   "execution_count": 12,
   "metadata": {},
   "outputs": [
    {
     "data": {
      "text/plain": [
       "[3, 50, 52]"
      ]
     },
     "execution_count": 12,
     "metadata": {},
     "output_type": "execute_result"
    }
   ],
   "source": [
    "S3.minimal_generating_set()"
   ]
  },
  {
   "cell_type": "code",
   "execution_count": 8,
   "metadata": {},
   "outputs": [
    {
     "name": "stdout",
     "output_type": "stream",
     "text": [
      "{1, 2, 4, 5, 7, 8, 10, 11, 13, 14, 16}\n",
      "[2, 5, 8, 11, 14]\n"
     ]
    }
   ],
   "source": [
    "print(S3.gaps)\n",
    "print(S3.void())"
   ]
  },
  {
   "cell_type": "code",
   "execution_count": 6,
   "metadata": {},
   "outputs": [
    {
     "data": {
      "text/plain": [
       "[(1, 1),\n",
       " (4, 1),\n",
       " (7, 1),\n",
       " (10, 1),\n",
       " (13, 1),\n",
       " (16, 1),\n",
       " (2, 2),\n",
       " (5, 2),\n",
       " (8, 2),\n",
       " (11, 2),\n",
       " (14, 2),\n",
       " (4, 4),\n",
       " (7, 4),\n",
       " (10, 4),\n",
       " (13, 4),\n",
       " (16, 4),\n",
       " (5, 5),\n",
       " (8, 5),\n",
       " (11, 5),\n",
       " (14, 5),\n",
       " (7, 7),\n",
       " (10, 7),\n",
       " (13, 7),\n",
       " (16, 7),\n",
       " (8, 8),\n",
       " (11, 8),\n",
       " (14, 8),\n",
       " (10, 10),\n",
       " (13, 10),\n",
       " (16, 10),\n",
       " (11, 11),\n",
       " (14, 11),\n",
       " (13, 13),\n",
       " (16, 13),\n",
       " (14, 14),\n",
       " (16, 16)]"
      ]
     },
     "execution_count": 6,
     "metadata": {},
     "output_type": "execute_result"
    }
   ],
   "source": [
    "S3.gap_poset()"
   ]
  },
  {
   "cell_type": "code",
   "execution_count": 13,
   "metadata": {},
   "outputs": [
    {
     "data": {
      "text/plain": [
       "[1]"
      ]
     },
     "execution_count": 13,
     "metadata": {},
     "output_type": "execute_result"
    }
   ],
   "source": [
    "NumericalSemigroup(gaps={}).minimal_generating_set()"
   ]
  },
  {
   "cell_type": "code",
   "execution_count": 7,
   "metadata": {},
   "outputs": [],
   "source": [
    "from partition import *"
   ]
  },
  {
   "cell_type": "code",
   "execution_count": 8,
   "metadata": {},
   "outputs": [],
   "source": [
    "p = Partition([3,2,1])"
   ]
  },
  {
   "cell_type": "code",
   "execution_count": 9,
   "metadata": {},
   "outputs": [
    {
     "data": {
      "text/plain": [
       "[[5, 3, 1], [3, 1], [1]]"
      ]
     },
     "execution_count": 9,
     "metadata": {},
     "output_type": "execute_result"
    }
   ],
   "source": [
    "p.hook_lengths()"
   ]
  },
  {
   "cell_type": "code",
   "execution_count": 10,
   "metadata": {},
   "outputs": [
    {
     "data": {
      "text/plain": [
       "True"
      ]
     },
     "execution_count": 10,
     "metadata": {},
     "output_type": "execute_result"
    }
   ],
   "source": [
    "p.is_semigroup()"
   ]
  },
  {
   "cell_type": "code",
   "execution_count": 11,
   "metadata": {},
   "outputs": [],
   "source": [
    "p2 = Partition([2,2])"
   ]
  },
  {
   "cell_type": "code",
   "execution_count": 12,
   "metadata": {},
   "outputs": [
    {
     "data": {
      "text/plain": [
       "False"
      ]
     },
     "execution_count": 12,
     "metadata": {},
     "output_type": "execute_result"
    }
   ],
   "source": [
    "p2.is_semigroup()"
   ]
  },
  {
   "cell_type": "code",
   "execution_count": 13,
   "metadata": {},
   "outputs": [
    {
     "data": {
      "text/plain": [
       "[1, 1, 1]"
      ]
     },
     "execution_count": 13,
     "metadata": {},
     "output_type": "execute_result"
    }
   ],
   "source": [
    "p2.atom_partition()"
   ]
  },
  {
   "cell_type": "code",
   "execution_count": 3,
   "metadata": {},
   "outputs": [],
   "source": [
    "from pocketpartition.random_numerical import RandomNumericalSemigroupWithGenus"
   ]
  },
  {
   "cell_type": "code",
   "execution_count": 16,
   "metadata": {},
   "outputs": [
    {
     "data": {
      "text/plain": [
       "<pocketpartition.numerical.NumericalSemigroup at 0x1e769499bb0>"
      ]
     },
     "execution_count": 16,
     "metadata": {},
     "output_type": "execute_result"
    }
   ],
   "source": [
    "RandomNumericalSemigroupWithGenus(30)"
   ]
  },
  {
   "cell_type": "code",
   "execution_count": 2,
   "metadata": {},
   "outputs": [],
   "source": [
    "import random\n",
    "def RandomNumericalSemigroupWithGenus(g):\n",
    "    \"\"\"\n",
    "    Generates a random numerical semigroup with a given genus.\n",
    "        https://github.com/gap-packages/numericalsgps/blob/master/gap/random.gi\n",
    "    Parameters:\n",
    "    g (int): The genus of the numerical semigroup.\n",
    "\n",
    "    Returns:\n",
    "    NumericalSemigroup: The generated numerical semigroup.\n",
    "    \"\"\"\n",
    "    s = NumericalSemigroup(generators={1})\n",
    "    for i in range(g):\n",
    "        try:\n",
    "            mingens = s.minimal_generating_set()\n",
    "            x = random.choice(mingens)\n",
    "            s = s.remove_minimal_generator(x)\n",
    "        except:\n",
    "            print(s.gaps, s.minimal_generating_set(), x)\n",
    "    return s"
   ]
  },
  {
   "cell_type": "code",
   "execution_count": 39,
   "metadata": {},
   "outputs": [],
   "source": [
    "S = RandomNumericalSemigroupWithGenus(1000)"
   ]
  },
  {
   "cell_type": "code",
   "execution_count": 31,
   "metadata": {},
   "outputs": [],
   "source": [
    "with open('genus300_depth3.txt', 'w') as file:\n",
    "    for element in S.gaps:\n",
    "        file.write(str(element) + ',')"
   ]
  },
  {
   "cell_type": "code",
   "execution_count": 30,
   "metadata": {},
   "outputs": [
    {
     "data": {
      "text/plain": [
       "59"
      ]
     },
     "execution_count": 30,
     "metadata": {},
     "output_type": "execute_result"
    }
   ],
   "source": [
    "len(S.minimal_generating_set())"
   ]
  },
  {
   "cell_type": "code",
   "execution_count": 29,
   "metadata": {},
   "outputs": [
    {
     "data": {
      "text/plain": [
       "134.16407864998737"
      ]
     },
     "execution_count": 29,
     "metadata": {},
     "output_type": "execute_result"
    }
   ],
   "source": [
    "300 / 5**(0.5)"
   ]
  },
  {
   "cell_type": "code",
   "execution_count": 28,
   "metadata": {},
   "outputs": [
    {
     "data": {
      "text/plain": [
       "96"
      ]
     },
     "execution_count": 28,
     "metadata": {},
     "output_type": "execute_result"
    }
   ],
   "source": [
    "S.multiplicity()"
   ]
  },
  {
   "cell_type": "code",
   "execution_count": 32,
   "metadata": {},
   "outputs": [
    {
     "data": {
      "text/plain": [
       "[128,\n",
       " 83,\n",
       " 81,\n",
       " 77,\n",
       " 76,\n",
       " 66,\n",
       " 62,\n",
       " 59,\n",
       " 59,\n",
       " 49,\n",
       " 49,\n",
       " 47,\n",
       " 45,\n",
       " 45,\n",
       " 42,\n",
       " 41,\n",
       " 40,\n",
       " 40,\n",
       " 40,\n",
       " 39,\n",
       " 38,\n",
       " 38,\n",
       " 38,\n",
       " 38,\n",
       " 38,\n",
       " 38,\n",
       " 36,\n",
       " 36,\n",
       " 34,\n",
       " 34,\n",
       " 33,\n",
       " 33,\n",
       " 33,\n",
       " 32,\n",
       " 32,\n",
       " 30,\n",
       " 30,\n",
       " 29,\n",
       " 26,\n",
       " 25,\n",
       " 23,\n",
       " 23,\n",
       " 21,\n",
       " 21,\n",
       " 20,\n",
       " 20,\n",
       " 17,\n",
       " 17,\n",
       " 17,\n",
       " 17,\n",
       " 16,\n",
       " 16,\n",
       " 16,\n",
       " 16,\n",
       " 14,\n",
       " 13,\n",
       " 13,\n",
       " 13,\n",
       " 13,\n",
       " 13,\n",
       " 13,\n",
       " 13,\n",
       " 13,\n",
       " 12,\n",
       " 12,\n",
       " 12,\n",
       " 12,\n",
       " 12,\n",
       " 12,\n",
       " 12,\n",
       " 12,\n",
       " 12,\n",
       " 12,\n",
       " 11,\n",
       " 11,\n",
       " 11,\n",
       " 11,\n",
       " 10,\n",
       " 10,\n",
       " 10,\n",
       " 10,\n",
       " 9,\n",
       " 9,\n",
       " 9,\n",
       " 8,\n",
       " 8,\n",
       " 8,\n",
       " 8,\n",
       " 8,\n",
       " 8,\n",
       " 8,\n",
       " 8,\n",
       " 7,\n",
       " 7,\n",
       " 7,\n",
       " 7,\n",
       " 7,\n",
       " 7,\n",
       " 7,\n",
       " 7,\n",
       " 7,\n",
       " 7,\n",
       " 7,\n",
       " 7,\n",
       " 7,\n",
       " 7,\n",
       " 7,\n",
       " 7,\n",
       " 7,\n",
       " 7,\n",
       " 7,\n",
       " 7,\n",
       " 7,\n",
       " 7,\n",
       " 6,\n",
       " 6,\n",
       " 6,\n",
       " 6,\n",
       " 6,\n",
       " 6,\n",
       " 6,\n",
       " 6,\n",
       " 6,\n",
       " 6,\n",
       " 6,\n",
       " 6,\n",
       " 6,\n",
       " 6,\n",
       " 6,\n",
       " 5,\n",
       " 5,\n",
       " 5,\n",
       " 5,\n",
       " 5,\n",
       " 4,\n",
       " 4,\n",
       " 4,\n",
       " 4,\n",
       " 4,\n",
       " 3,\n",
       " 3,\n",
       " 3,\n",
       " 3,\n",
       " 3,\n",
       " 3,\n",
       " 3,\n",
       " 3,\n",
       " 3,\n",
       " 3,\n",
       " 3,\n",
       " 3,\n",
       " 3,\n",
       " 3,\n",
       " 3,\n",
       " 3,\n",
       " 3,\n",
       " 3,\n",
       " 3,\n",
       " 3,\n",
       " 3,\n",
       " 3,\n",
       " 3,\n",
       " 3,\n",
       " 3,\n",
       " 3,\n",
       " 3,\n",
       " 3,\n",
       " 3,\n",
       " 3,\n",
       " 3,\n",
       " 3,\n",
       " 3,\n",
       " 3,\n",
       " 3,\n",
       " 3,\n",
       " 3,\n",
       " 3,\n",
       " 3,\n",
       " 3,\n",
       " 3,\n",
       " 3,\n",
       " 3,\n",
       " 3,\n",
       " 2,\n",
       " 2,\n",
       " 2,\n",
       " 2,\n",
       " 2,\n",
       " 2,\n",
       " 2,\n",
       " 2,\n",
       " 2,\n",
       " 2,\n",
       " 2,\n",
       " 2,\n",
       " 2,\n",
       " 2,\n",
       " 2,\n",
       " 2,\n",
       " 2,\n",
       " 2,\n",
       " 2,\n",
       " 2,\n",
       " 2,\n",
       " 2,\n",
       " 1,\n",
       " 1,\n",
       " 1,\n",
       " 1,\n",
       " 1,\n",
       " 1,\n",
       " 1,\n",
       " 1,\n",
       " 1,\n",
       " 1,\n",
       " 1,\n",
       " 1,\n",
       " 1,\n",
       " 1,\n",
       " 1,\n",
       " 1,\n",
       " 1,\n",
       " 1,\n",
       " 1,\n",
       " 1,\n",
       " 1,\n",
       " 1,\n",
       " 1,\n",
       " 1,\n",
       " 1,\n",
       " 1,\n",
       " 1,\n",
       " 1,\n",
       " 1,\n",
       " 1,\n",
       " 1,\n",
       " 1,\n",
       " 1,\n",
       " 1,\n",
       " 1,\n",
       " 1,\n",
       " 1,\n",
       " 1,\n",
       " 1,\n",
       " 1,\n",
       " 1,\n",
       " 1,\n",
       " 1,\n",
       " 1,\n",
       " 1,\n",
       " 1,\n",
       " 1,\n",
       " 1,\n",
       " 1,\n",
       " 1,\n",
       " 1,\n",
       " 1,\n",
       " 1,\n",
       " 1,\n",
       " 1,\n",
       " 1,\n",
       " 1,\n",
       " 1,\n",
       " 1,\n",
       " 1,\n",
       " 1,\n",
       " 1,\n",
       " 1,\n",
       " 1,\n",
       " 1,\n",
       " 1,\n",
       " 1,\n",
       " 1,\n",
       " 1,\n",
       " 1,\n",
       " 1,\n",
       " 1,\n",
       " 1,\n",
       " 1,\n",
       " 1,\n",
       " 1,\n",
       " 1,\n",
       " 1,\n",
       " 1,\n",
       " 1,\n",
       " 1,\n",
       " 1,\n",
       " 1,\n",
       " 1,\n",
       " 1,\n",
       " 1,\n",
       " 1,\n",
       " 1,\n",
       " 1,\n",
       " 1,\n",
       " 1,\n",
       " 1,\n",
       " 1,\n",
       " 1,\n",
       " 1]"
      ]
     },
     "execution_count": 32,
     "metadata": {},
     "output_type": "execute_result"
    }
   ],
   "source": [
    "S.partition()"
   ]
  },
  {
   "cell_type": "code",
   "execution_count": 18,
   "metadata": {},
   "outputs": [],
   "source": [
    "import matplotlib.pyplot as plt\n",
    "\n",
    "def draw_ferrers_diagram(partition):\n",
    "    \"\"\"\n",
    "    Draws a Ferrers diagram for a given integer partition.\n",
    "\n",
    "    Parameters:\n",
    "    partition (list of int): A list of integers representing the partition of an integer. \n",
    "                             Each integer corresponds to the number of dots in a row of the diagram.\n",
    "\n",
    "    Example:\n",
    "    draw_ferrers_diagram([5, 4, 3, 1]) will draw:\n",
    "    \n",
    "    \n",
    "    **\n",
    "    *\n",
    "    \"\"\"\n",
    "    # Validate the input\n",
    "    if not all(isinstance(x, int) and x > 0 for x in partition):\n",
    "        raise ValueError(\"All elements in the partition must be positive integers.\")\n",
    "\n",
    "    # Create a figure and axis\n",
    "    fig, ax = plt.subplots()\n",
    "\n",
    "    # Draw the Ferrers diagram\n",
    "    for i, row_length in enumerate(partition):\n",
    "        for j in range(row_length):\n",
    "            ax.plot(j, -i, 'ko', markersize=12)  # 'ko' means black color and circle marker\n",
    "\n",
    "    # Set axis limits and aspect ratio\n",
    "    ax.set_xlim(-1, max(partition))\n",
    "    ax.set_ylim(-len(partition), 1)\n",
    "    ax.set_aspect('equal')\n",
    "    ax.axis('off')  # Turn off the axis\n",
    "\n",
    "    # Show the plot\n",
    "    plt.show()"
   ]
  },
  {
   "cell_type": "code",
   "execution_count": 29,
   "metadata": {},
   "outputs": [
    {
     "data": {
      "image/png": "[encoded data removed]",
      "text/plain": [
       "<Figure size 1200x800 with 2 Axes>"
      ]
     },
     "metadata": {},
     "output_type": "display_data"
    }
   ],
   "source": [
    "import matplotlib.pyplot as plt\n",
    "from matplotlib.patches import Rectangle\n",
    "import numpy as np\n",
    "\n",
    "def calculate_hook_lengths(partition):\n",
    "    n = len(partition)\n",
    "    hooks = np.zeros((n, max(partition)), dtype=int)\n",
    "    \n",
    "    for i in range(n):\n",
    "        for j in range(partition[i]):\n",
    "            right = partition[i] - j - 1\n",
    "            down = sum(1 for k in range(i + 1, n) if partition[k] > j)\n",
    "            hooks[i, j] = right + down + 1\n",
    "    \n",
    "    return hooks\n",
    "\n",
    "def draw_ferrers_diagram(partition):\n",
    "    \"\"\"\n",
    "    Draws a Ferrers diagram with boxes for a given integer partition.\n",
    "    Colors the boxes based on hook lengths.\n",
    "\n",
    "    Parameters:\n",
    "    partition (list of int): A list of integers representing the partition of an integer. \n",
    "                             Each integer corresponds to the number of boxes in a row of the diagram.\n",
    "    \"\"\"\n",
    "    # Validate the input\n",
    "    if not all(isinstance(x, int) and x > 0 for x in partition):\n",
    "        raise ValueError(\"All elements in the partition must be positive integers.\")\n",
    "\n",
    "    # Calculate hook lengths\n",
    "    hook_lengths = calculate_hook_lengths(partition)\n",
    "    \n",
    "    # Create a figure and axis\n",
    "    fig, ax = plt.subplots(figsize=(12, 8))\n",
    "    \n",
    "    # Define colormap\n",
    "    cmap = plt.get_cmap(\"viridis\")\n",
    "    max_hook_length = np.max(hook_lengths)\n",
    "\n",
    "    # Draw the Ferrers diagram with boxes\n",
    "    for i, row_length in enumerate(partition):\n",
    "        for j in range(row_length):\n",
    "            hook_length = hook_lengths[i, j]\n",
    "            color = cmap(np.log1p(hook_length) / np.log1p(max_hook_length))  # Use logarithmic scaling\n",
    "            rect = Rectangle((j, -i), 1, 1, facecolor=color, edgecolor='black')\n",
    "            ax.add_patch(rect)\n",
    "\n",
    "    # Set axis limits and aspect ratio\n",
    "    ax.set_xlim(-0.5, max(partition) + 0.5)\n",
    "    ax.set_ylim(-len(partition) - 0.5, 0.5)\n",
    "    ax.set_aspect('equal')\n",
    "    ax.axis('off')  # Turn off the axis\n",
    "\n",
    "    # Add colorbar with logarithmic scale\n",
    "    sm = plt.cm.ScalarMappable(cmap=cmap, norm=plt.Normalize(vmin=1, vmax=max_hook_length))\n",
    "    sm.set_array([])\n",
    "    cbar = plt.colorbar(sm, ax=ax, orientation='vertical', fraction=0.02, pad=0.04)\n",
    "    cbar.set_label('Hook Length (Log Scale)')\n",
    "\n",
    "    # Show the plot\n",
    "    plt.show()\n",
    "\n",
    "# Example usage\n",
    "draw_ferrers_diagram(S.partition())"
   ]
  },
  {
   "cell_type": "code",
   "execution_count": 35,
   "metadata": {},
   "outputs": [
    {
     "data": {
      "image/png": "[encoded data removed]",
      "text/plain": [
       "<Figure size 1200x800 with 2 Axes>"
      ]
     },
     "metadata": {},
     "output_type": "display_data"
    }
   ],
   "source": [
    "import matplotlib.pyplot as plt\n",
    "import numpy as np\n",
    "\n",
    "def calculate_hook_lengths(partition):\n",
    "    n = len(partition)\n",
    "    hooks = np.zeros((n, max(partition)), dtype=int)\n",
    "    \n",
    "    for i in range(n):\n",
    "        for j in range(partition[i]):\n",
    "            right = partition[i] - j - 1\n",
    "            down = sum(1 for k in range(i + 1, n) if partition[k] > j)\n",
    "            hooks[i, j] = right + down + 1\n",
    "    \n",
    "    return hooks\n",
    "\n",
    "def draw_ferrers_diagram(partition):\n",
    "    \"\"\"\n",
    "    Draws a Ferrers diagram with dots for a given integer partition.\n",
    "    Colors the dots based on hook lengths.\n",
    "\n",
    "    Parameters:\n",
    "    partition (list of int): A list of integers representing the partition of an integer. \n",
    "                             Each integer corresponds to the number of dots in a row of the diagram.\n",
    "    \"\"\"\n",
    "    # Validate the input\n",
    "    if not all(isinstance(x, int) and x > 0 for x in partition):\n",
    "        raise ValueError(\"All elements in the partition must be positive integers.\")\n",
    "\n",
    "    # Calculate hook lengths\n",
    "    hook_lengths = calculate_hook_lengths(partition)\n",
    "    \n",
    "    # Create a figure and axis\n",
    "    fig, ax = plt.subplots(figsize=(12, 8))\n",
    "    \n",
    "    # Define colormap\n",
    "    cmap = plt.get_cmap(\"viridis\")\n",
    "    max_hook_length = np.max(hook_lengths)\n",
    "\n",
    "    # Draw the Ferrers diagram with dots\n",
    "    for i, row_length in enumerate(partition):\n",
    "        for j in range(row_length):\n",
    "            hook_length = hook_lengths[i, j]\n",
    "            color = cmap(np.log1p(hook_length) / np.log1p(max_hook_length))  # Use logarithmic scaling\n",
    "            ax.plot(j, -i, 'o', markersize=12, color=color)  # 'o' means circle marker\n",
    "\n",
    "    # Set axis limits and aspect ratio\n",
    "    ax.set_xlim(-0.5, max(partition) + 0.5)\n",
    "    ax.set_ylim(-len(partition) - 0.5, 0.5)\n",
    "    ax.set_aspect('equal')\n",
    "    ax.axis('off')  # Turn off the axis\n",
    "\n",
    "    # Add colorbar with logarithmic scale\n",
    "    sm = plt.cm.ScalarMappable(cmap=cmap, norm=plt.Normalize(vmin=1, vmax=max_hook_length))\n",
    "    sm.set_array([])\n",
    "    cbar = plt.colorbar(sm, ax=ax, orientation='vertical', fraction=0.02, pad=0.04)\n",
    "    cbar.set_label('Hook Length (Log Scale)')\n",
    "\n",
    "    # Show the plot\n",
    "    plt.show()\n",
    "\n",
    "# Example usage\n",
    "draw_ferrers_diagram(RandomNumericalSemigroupWithGenus(500).partition())"
   ]
  },
  {
   "cell_type": "code",
   "execution_count": 19,
   "metadata": {},
   "outputs": [
    {
     "data": {
      "image/png": "[encoded data removed]",
      "text/plain": [
       "<Figure size 640x480 with 1 Axes>"
      ]
     },
     "metadata": {},
     "output_type": "display_data"
    }
   ],
   "source": [
    "draw_ferrers_diagram(S.partition())"
   ]
  },
  {
   "cell_type": "code",
   "execution_count": 38,
   "metadata": {},
   "outputs": [
    {
     "data": {
      "text/plain": [
       "[198,\n",
       " 240,\n",
       " 304,\n",
       " 310,\n",
       " 326,\n",
       " 341,\n",
       " 344,\n",
       " 353,\n",
       " 361,\n",
       " 367,\n",
       " 370,\n",
       " 375,\n",
       " 379,\n",
       " 382,\n",
       " 389,\n",
       " 391,\n",
       " 392,\n",
       " 394,\n",
       " 398,\n",
       " 404,\n",
       " 412,\n",
       " 418,\n",
       " 423,\n",
       " 424,\n",
       " 427,\n",
       " 433,\n",
       " 434,\n",
       " 440,\n",
       " 441,\n",
       " 442,\n",
       " 446,\n",
       " 452,\n",
       " 456,\n",
       " 460,\n",
       " 461,\n",
       " 463,\n",
       " 464,\n",
       " 466,\n",
       " 469,\n",
       " 475,\n",
       " 476,\n",
       " 477,\n",
       " 478,\n",
       " 479,\n",
       " 482,\n",
       " 483,\n",
       " 484,\n",
       " 486,\n",
       " 494,\n",
       " 498,\n",
       " 504,\n",
       " 507,\n",
       " 510,\n",
       " 516,\n",
       " 517,\n",
       " 521,\n",
       " 522,\n",
       " 525,\n",
       " 530,\n",
       " 533,\n",
       " 534,\n",
       " 536,\n",
       " 541,\n",
       " 543,\n",
       " 547,\n",
       " 549,\n",
       " 552,\n",
       " 553,\n",
       " 554,\n",
       " 555,\n",
       " 556,\n",
       " 557,\n",
       " 558,\n",
       " 561,\n",
       " 562,\n",
       " 563,\n",
       " 567,\n",
       " 569,\n",
       " 570,\n",
       " 571,\n",
       " 578,\n",
       " 579,\n",
       " 582,\n",
       " 585,\n",
       " 588,\n",
       " 597,\n",
       " 598,\n",
       " 600,\n",
       " 603,\n",
       " 604,\n",
       " 605,\n",
       " 606,\n",
       " 617,\n",
       " 618,\n",
       " 623,\n",
       " 626,\n",
       " 628,\n",
       " 633,\n",
       " 637,\n",
       " 641,\n",
       " 642,\n",
       " 646,\n",
       " 647,\n",
       " 649,\n",
       " 653,\n",
       " 655,\n",
       " 656,\n",
       " 666,\n",
       " 691,\n",
       " 707,\n",
       " 710,\n",
       " 712,\n",
       " 713,\n",
       " 721]"
      ]
     },
     "execution_count": 38,
     "metadata": {},
     "output_type": "execute_result"
    }
   ],
   "source": [
    "S.minimal_generating_set()"
   ]
  },
  {
   "cell_type": "code",
   "execution_count": null,
   "metadata": {},
   "outputs": [],
   "source": []
  }
 ],
 "metadata": {
  "kernelspec": {
   "display_name": "mathpy",
   "language": "python",
   "name": "python3"
  },
  "language_info": {
   "codemirror_mode": {
    "name": "ipython",
    "version": 3
   },
   "file_extension": ".py",
   "mimetype": "text/x-python",
   "name": "python",
   "nbconvert_exporter": "python",
   "pygments_lexer": "ipython3",
   "version": "3.12.0"
  }
 },
 "nbformat": 4,
 "nbformat_minor": 2
}
