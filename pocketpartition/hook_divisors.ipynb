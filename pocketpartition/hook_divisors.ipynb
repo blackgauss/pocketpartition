{
 "cells": [
  {
   "cell_type": "markdown",
   "metadata": {},
   "source": [
    "If $h$ appears as a hook length in a partition then so must all its divisors."
   ]
  },
  {
   "cell_type": "code",
   "execution_count": 4,
   "metadata": {},
   "outputs": [],
   "source": [
    "from pocketpartition import NumericalSet, Partition, NumericalSemigroup\n",
    "import random"
   ]
  },
  {
   "cell_type": "code",
   "execution_count": 7,
   "metadata": {},
   "outputs": [],
   "source": [
    "def random_partition(length):\n",
    "    current_max = length\n",
    "    partition = []\n",
    "    idx = 0\n",
    "    while current_max > 0 and idx < length:\n",
    "        part = random.randint(1, current_max)\n",
    "        partition.append(part)\n",
    "        current_max = part\n",
    "        idx += 1\n",
    "    return partition\n"
   ]
  },
  {
   "cell_type": "code",
   "execution_count": 11,
   "metadata": {},
   "outputs": [
    {
     "data": {
      "text/plain": [
       "<pocketpartition.Partition at 0x24920d49400>"
      ]
     },
     "execution_count": 11,
     "metadata": {},
     "output_type": "execute_result"
    }
   ],
   "source": [
    "Partition(random_partition(10))"
   ]
  },
  {
   "cell_type": "code",
   "execution_count": null,
   "metadata": {},
   "outputs": [],
   "source": []
  }
 ],
 "metadata": {
  "kernelspec": {
   "display_name": "mathpy",
   "language": "python",
   "name": "python3"
  },
  "language_info": {
   "codemirror_mode": {
    "name": "ipython",
    "version": 3
   },
   "file_extension": ".py",
   "mimetype": "text/x-python",
   "name": "python",
   "nbconvert_exporter": "python",
   "pygments_lexer": "ipython3",
   "version": "3.12.0"
  }
 },
 "nbformat": 4,
 "nbformat_minor": 2
}
