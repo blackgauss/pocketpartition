{
 "cells": [
  {
   "cell_type": "markdown",
   "metadata": {},
   "source": [
    "# Make a Numerical Semigroup"
   ]
  },
  {
   "cell_type": "code",
   "execution_count": 2,
   "metadata": {},
   "outputs": [],
   "source": [
    "from pocketpartition.random_numerical import NumericalSemigroup"
   ]
  },
  {
   "cell_type": "code",
   "execution_count": 2,
   "metadata": {},
   "outputs": [],
   "source": [
    "S1 = NumericalSemigroup(gaps = {1,2,5}) # Using Gaps\n",
    "S2 = NumericalSemigroup(generators= {3, 4}) # From Generators"
   ]
  },
  {
   "cell_type": "code",
   "execution_count": 3,
   "metadata": {},
   "outputs": [
    {
     "name": "stdout",
     "output_type": "stream",
     "text": [
      "5\n",
      "3\n",
      "[3, 4]\n",
      "{0, 3, 4, 6, 7, 8, 9, 11, 12, 15}\n",
      "2\n"
     ]
    }
   ],
   "source": [
    "print(S1.frobenius_number)\n",
    "print(S2.multiplicity())\n",
    "print(S1.minimal_generating_set())\n",
    "print(S1.apery_set(10))\n",
    "print(S1.effective_weight())"
   ]
  },
  {
   "cell_type": "code",
   "execution_count": 3,
   "metadata": {},
   "outputs": [],
   "source": [
    "S3 = NumericalSemigroup(gaps={1,2,4,5,7})"
   ]
  },
  {
   "cell_type": "code",
   "execution_count": 5,
   "metadata": {},
   "outputs": [
    {
     "name": "stdout",
     "output_type": "stream",
     "text": [
      "[5, 7]\n",
      "2\n"
     ]
    }
   ],
   "source": [
    "print(S3.pseudofrobenius_numbers())\n",
    "print(S3.type())"
   ]
  },
  {
   "cell_type": "code",
   "execution_count": 7,
   "metadata": {},
   "outputs": [],
   "source": [
    "S3 = NumericalSemigroup(generators = {3, 17, 19})"
   ]
  },
  {
   "cell_type": "code",
   "execution_count": 8,
   "metadata": {},
   "outputs": [
    {
     "name": "stdout",
     "output_type": "stream",
     "text": [
      "{1, 2, 4, 5, 7, 8, 10, 11, 13, 14, 16}\n",
      "[2, 5, 8, 11, 14]\n"
     ]
    }
   ],
   "source": [
    "print(S3.gaps)\n",
    "print(S3.void())"
   ]
  },
  {
   "cell_type": "code",
   "execution_count": 6,
   "metadata": {},
   "outputs": [
    {
     "data": {
      "text/plain": [
       "[(1, 1),\n",
       " (4, 1),\n",
       " (7, 1),\n",
       " (10, 1),\n",
       " (13, 1),\n",
       " (16, 1),\n",
       " (2, 2),\n",
       " (5, 2),\n",
       " (8, 2),\n",
       " (11, 2),\n",
       " (14, 2),\n",
       " (4, 4),\n",
       " (7, 4),\n",
       " (10, 4),\n",
       " (13, 4),\n",
       " (16, 4),\n",
       " (5, 5),\n",
       " (8, 5),\n",
       " (11, 5),\n",
       " (14, 5),\n",
       " (7, 7),\n",
       " (10, 7),\n",
       " (13, 7),\n",
       " (16, 7),\n",
       " (8, 8),\n",
       " (11, 8),\n",
       " (14, 8),\n",
       " (10, 10),\n",
       " (13, 10),\n",
       " (16, 10),\n",
       " (11, 11),\n",
       " (14, 11),\n",
       " (13, 13),\n",
       " (16, 13),\n",
       " (14, 14),\n",
       " (16, 16)]"
      ]
     },
     "execution_count": 6,
     "metadata": {},
     "output_type": "execute_result"
    }
   ],
   "source": [
    "S3.gap_poset()"
   ]
  },
  {
   "cell_type": "code",
   "execution_count": 13,
   "metadata": {},
   "outputs": [
    {
     "data": {
      "text/plain": [
       "[1]"
      ]
     },
     "execution_count": 13,
     "metadata": {},
     "output_type": "execute_result"
    }
   ],
   "source": [
    "NumericalSemigroup(gaps={}).minimal_generating_set()"
   ]
  },
  {
   "cell_type": "code",
   "execution_count": 7,
   "metadata": {},
   "outputs": [],
   "source": [
    "from partition import *"
   ]
  },
  {
   "cell_type": "code",
   "execution_count": 8,
   "metadata": {},
   "outputs": [],
   "source": [
    "p = Partition([3,2,1])"
   ]
  },
  {
   "cell_type": "code",
   "execution_count": 9,
   "metadata": {},
   "outputs": [
    {
     "data": {
      "text/plain": [
       "[[5, 3, 1], [3, 1], [1]]"
      ]
     },
     "execution_count": 9,
     "metadata": {},
     "output_type": "execute_result"
    }
   ],
   "source": [
    "p.hook_lengths()"
   ]
  },
  {
   "cell_type": "code",
   "execution_count": 10,
   "metadata": {},
   "outputs": [
    {
     "data": {
      "text/plain": [
       "True"
      ]
     },
     "execution_count": 10,
     "metadata": {},
     "output_type": "execute_result"
    }
   ],
   "source": [
    "p.is_semigroup()"
   ]
  },
  {
   "cell_type": "code",
   "execution_count": 11,
   "metadata": {},
   "outputs": [],
   "source": [
    "p2 = Partition([2,2])"
   ]
  },
  {
   "cell_type": "code",
   "execution_count": 12,
   "metadata": {},
   "outputs": [
    {
     "data": {
      "text/plain": [
       "False"
      ]
     },
     "execution_count": 12,
     "metadata": {},
     "output_type": "execute_result"
    }
   ],
   "source": [
    "p2.is_semigroup()"
   ]
  },
  {
   "cell_type": "code",
   "execution_count": 13,
   "metadata": {},
   "outputs": [
    {
     "data": {
      "text/plain": [
       "[1, 1, 1]"
      ]
     },
     "execution_count": 13,
     "metadata": {},
     "output_type": "execute_result"
    }
   ],
   "source": [
    "p2.atom_partition()"
   ]
  },
  {
   "cell_type": "code",
   "execution_count": null,
   "metadata": {},
   "outputs": [],
   "source": []
  }
 ],
 "metadata": {
  "kernelspec": {
   "display_name": "mathpy",
   "language": "python",
   "name": "python3"
  },
  "language_info": {
   "codemirror_mode": {
    "name": "ipython",
    "version": 3
   },
   "file_extension": ".py",
   "mimetype": "text/x-python",
   "name": "python",
   "nbconvert_exporter": "python",
   "pygments_lexer": "ipython3",
   "version": "3.12.0"
  }
 },
 "nbformat": 4,
 "nbformat_minor": 2
}
