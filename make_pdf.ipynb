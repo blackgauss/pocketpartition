{
 "cells": [
  {
   "cell_type": "code",
   "execution_count": 1,
   "metadata": {},
   "outputs": [],
   "source": [
    "from src.pocketpartition.core.numerical_semigroup import NumericalSemigroup\n",
    "from src.pocketpartition.core.random_numerical import RandomNumericalSemigroupWithGenus\n",
    "from src.pocketpartition.core.partition import Partition\n",
    "from src.pocketpartition.core.numerical_functions import get_partition, get_gap_poset, get_void_poset\n",
    "from src.pocketpartition.visualization.tex import generate_content_pages, wrap_with_headers_footers, wrap_with_section\n",
    "from src.pocketpartition.visualization.tikz import generate_latex_table, generate_ferrers_tikz\n",
    "from src.pocketpartition.core.genus import WithGenus"
   ]
  },
  {
   "cell_type": "code",
   "execution_count": 2,
   "metadata": {},
   "outputs": [],
   "source": [
    "def get_info(S):\n",
    "    subsections =[ {'title': 'Invariants'}, {'title': 'Partition'}, {'title': 'Gap Poset'}, {'title': 'Void Poset'}]\n",
    "    data = {'g': len(S.gaps), 'F': S.frobenius_number, 'm': S.multiplicity(), 'ewt': S.effective_weight(), 't': S.type(), '\\\\(|M|\\\\)': len(S.void()), '\\\\(|\\\\lambda|\\\\)': sum(S.partition())}\n",
    "    partition = get_partition(S)\n",
    "    gap_poset = get_gap_poset(S)\n",
    "    void_poset = get_void_poset(S)\n",
    "    gap_input = (gap_poset.elements, gap_poset.cover_relations())\n",
    "    void_input = (void_poset.elements, void_poset.cover_relations())\n",
    "    return generate_content_pages(f\"{S.minimal_generating_set()}\", subsections, data, partition.hook_lengths(), gap_input, void_input)"
   ]
  },
  {
   "cell_type": "code",
   "execution_count": 12,
   "metadata": {},
   "outputs": [],
   "source": [
    "document = ''\n",
    "for g in range (1, 3):\n",
    "    document += \"\\\\newpage\\n\"\n",
    "    document += \"\\\\section{\" + f\"Genus {g}\" + \"}\\n\"\n",
    "    samples = WithGenus(g)\n",
    "    for sample in samples:\n",
    "        document += '\\\\newpage'\n",
    "        document += get_info(sample)"
   ]
  },
  {
   "cell_type": "code",
   "execution_count": 14,
   "metadata": {},
   "outputs": [
    {
     "name": "stdout",
     "output_type": "stream",
     "text": [
      "\\newpage\n",
      "\\section{Genus 1}\n",
      "\\newpage\\subsection{MinGens: [2, 3]}\n",
      "\\noindent\\begin{minipage}{0.6\\textwidth}\n",
      "\\subsubsection*{Invariants}\n",
      "\\centering\n",
      "\\begin{tabular}{|c|c|c|c|c|c|c|}\n",
      "\\toprule\n",
      "g & F & m & ewt & t & \\(|M|\\) & \\(|\\lambda|\\) \\\\\n",
      "\\midrule\n",
      "1 & 1 & 2 & 0 & 1 & 0 & 1 \\\\\n",
      "\\bottomrule\n",
      "\\end{tabular}\n",
      "\\end{minipage}%\n",
      "\\begin{minipage}{0.4\\textwidth}\n",
      "\\subsubsection*{Partition}\n",
      "\\centering\n",
      "\\begin{tikzpicture}\n",
      "  \\draw (0.00, 0.00) rectangle (0.40, -0.40);\n",
      "  \\node[font=\\tiny] at (0.20, -0.20) {1};\n",
      "\\end{tikzpicture}\n",
      "\\end{minipage}\n",
      "\\vspace{1cm}\n",
      "\\noindent \\newline\\begin{minipage}{0.48\\textwidth}\n",
      "\\subsubsection*{Gap Poset}\n",
      "\\centering\n",
      "\\begin{tikzpicture}\n",
      "  \\node[draw, rectangle, minimum size=0.3cm] (1) at (0.00,0.00) {1};\n",
      "\\end{tikzpicture}\n",
      "\\end{minipage}%\n",
      "\\hfill\\begin{minipage}{0.48\\textwidth}\n",
      "\\subsubsection*{Void Poset}\n",
      "\\centering\n",
      "\\end{minipage}\n",
      "\\newpage\n",
      "\\section{Genus 2}\n",
      "\\newpage\\subsection{MinGens: [3, 4, 5]}\n",
      "\\noindent\\begin{minipage}{0.6\\textwidth}\n",
      "\\subsubsection*{Invariants}\n",
      "\\centering\n",
      "\\begin{tabular}{|c|c|c|c|c|c|c|}\n",
      "\\toprule\n",
      "g & F & m & ewt & t & \\(|M|\\) & \\(|\\lambda|\\) \\\\\n",
      "\\midrule\n",
      "2 & 2 & 3 & 0 & 2 & 1 & 2 \\\\\n",
      "\\bottomrule\n",
      "\\end{tabular}\n",
      "\\end{minipage}%\n",
      "\\begin{minipage}{0.4\\textwidth}\n",
      "\\subsubsection*{Partition}\n",
      "\\centering\n",
      "\\begin{tikzpicture}\n",
      "  \\draw (0.00, 0.00) rectangle (0.40, -0.40);\n",
      "  \\node[font=\\tiny] at (0.20, -0.20) {2};\n",
      "  \\draw (0.00, -0.40) rectangle (0.40, -0.80);\n",
      "  \\node[font=\\tiny] at (0.20, -0.60) {1};\n",
      "\\end{tikzpicture}\n",
      "\\end{minipage}\n",
      "\\vspace{1cm}\n",
      "\\noindent \\newline\\begin{minipage}{0.48\\textwidth}\n",
      "\\subsubsection*{Gap Poset}\n",
      "\\centering\n",
      "\\begin{tikzpicture}\n",
      "  \\node[minimum size=0.3cm] (1) at (0.00,0.00) {1};\n",
      "  \\node[draw, rectangle, minimum size=0.3cm] (2) at (1.60,0.00) {2};\n",
      "\\end{tikzpicture}\n",
      "\\end{minipage}%\n",
      "\\hfill\\begin{minipage}{0.48\\textwidth}\n",
      "\\subsubsection*{Void Poset}\n",
      "\\centering\n",
      "\\begin{tikzpicture}\n",
      "  \\node[draw, rectangle, minimum size=0.3cm] (1) at (0.00,0.00) {1};\n",
      "\\end{tikzpicture}\n",
      "\\end{minipage}\n",
      "\\newpage\\subsection{MinGens: [2, 5]}\n",
      "\\noindent\\begin{minipage}{0.6\\textwidth}\n",
      "\\subsubsection*{Invariants}\n",
      "\\centering\n",
      "\\begin{tabular}{|c|c|c|c|c|c|c|}\n",
      "\\toprule\n",
      "g & F & m & ewt & t & \\(|M|\\) & \\(|\\lambda|\\) \\\\\n",
      "\\midrule\n",
      "2 & 3 & 2 & 1 & 1 & 0 & 3 \\\\\n",
      "\\bottomrule\n",
      "\\end{tabular}\n",
      "\\end{minipage}%\n",
      "\\begin{minipage}{0.4\\textwidth}\n",
      "\\subsubsection*{Partition}\n",
      "\\centering\n",
      "\\begin{tikzpicture}\n",
      "  \\draw (0.00, 0.00) rectangle (0.40, -0.40);\n",
      "  \\node[font=\\tiny] at (0.20, -0.20) {3};\n",
      "  \\draw (0.40, 0.00) rectangle (0.80, -0.40);\n",
      "  \\node[font=\\tiny] at (0.60, -0.20) {1};\n",
      "  \\draw (0.00, -0.40) rectangle (0.40, -0.80);\n",
      "  \\node[font=\\tiny] at (0.20, -0.60) {1};\n",
      "\\end{tikzpicture}\n",
      "\\end{minipage}\n",
      "\\vspace{1cm}\n",
      "\\noindent \\newline\\begin{minipage}{0.48\\textwidth}\n",
      "\\subsubsection*{Gap Poset}\n",
      "\\centering\n",
      "\\begin{tikzpicture}\n",
      "  \\node[minimum size=0.3cm] (1) at (0.00,-1.60) {1};\n",
      "  \\node[draw, rectangle, minimum size=0.3cm] (3) at (0.00,0.00) {3};\n",
      "  % Draw the cover relations\n",
      "  \\draw (3) -- (1);\n",
      "\\end{tikzpicture}\n",
      "\\end{minipage}%\n",
      "\\hfill\\begin{minipage}{0.48\\textwidth}\n",
      "\\subsubsection*{Void Poset}\n",
      "\\centering\n",
      "\\end{minipage}\n",
      "\n"
     ]
    }
   ],
   "source": [
    "print(document)"
   ]
  },
  {
   "cell_type": "code",
   "execution_count": 6,
   "metadata": {},
   "outputs": [],
   "source": [
    "final = wrap_with_headers_footers(document)\n",
    "with open(\"document.tex\", \"w\") as file:\n",
    "    file.write(final)"
   ]
  },
  {
   "cell_type": "code",
   "execution_count": 16,
   "metadata": {},
   "outputs": [
    {
     "name": "stdout",
     "output_type": "stream",
     "text": [
      "\\begin{tikzpicture}\n",
      "  \\draw (0.00, 0.00) rectangle (0.20, -0.20);\n",
      "  \\draw (0.20, 0.00) rectangle (0.40, -0.20);\n",
      "  \\draw (0.40, 0.00) rectangle (0.60, -0.20);\n",
      "  \\draw (0.60, 0.00) rectangle (0.80, -0.20);\n",
      "  \\draw (0.80, 0.00) rectangle (1.00, -0.20);\n",
      "  \\draw (0.00, -0.20) rectangle (0.20, -0.40);\n",
      "  \\draw (0.20, -0.20) rectangle (0.40, -0.40);\n",
      "  \\draw (0.40, -0.20) rectangle (0.60, -0.40);\n",
      "  \\draw (0.00, -0.40) rectangle (0.20, -0.60);\n",
      "  \\draw (0.20, -0.40) rectangle (0.40, -0.60);\n",
      "  \\draw (0.00, -0.60) rectangle (0.20, -0.80);\n",
      "\\end{tikzpicture}\n",
      "\n"
     ]
    }
   ],
   "source": [
    "print(generate_ferrers_tikz(Partition([5,3,2,1]).hook_lengths()))"
   ]
  },
  {
   "cell_type": "code",
   "execution_count": 5,
   "metadata": {},
   "outputs": [
    {
     "name": "stdout",
     "output_type": "stream",
     "text": [
      "# # # # \n",
      "# # # \n",
      "# # \n",
      "# \n",
      "# \n"
     ]
    }
   ],
   "source": [
    "Partition([5,3,2,1]).conjugate().display()"
   ]
  },
  {
   "cell_type": "code",
   "execution_count": 9,
   "metadata": {},
   "outputs": [
    {
     "name": "stdout",
     "output_type": "stream",
     "text": [
      "8 6 4 2 1\n",
      "5 3 1\n",
      "3 1  \n",
      "1    \n"
     ]
    }
   ],
   "source": [
    "Partition([5,3,2,1]).display(show_hooks=True)"
   ]
  },
  {
   "cell_type": "code",
   "execution_count": 13,
   "metadata": {},
   "outputs": [
    {
     "name": "stdout",
     "output_type": "stream",
     "text": [
      "Help on Partition in module src.pocketpartition.core.partition object:\n",
      "\n",
      "class Partition(builtins.object)\n",
      " |  Partition(partition)\n",
      " |\n",
      " |  Methods defined here:\n",
      " |\n",
      " |  __init__(self, partition)\n",
      " |      Initialize the Partition object with a given partition.\n",
      " |\n",
      " |      Parameters:\n",
      " |      partition (list of int): A list representing the partition.\n",
      " |\n",
      " |      Raises:\n",
      " |      ValueError: If the partition is not a list of positive integers in non-increasing order.\n",
      " |\n",
      " |  __repr__(self)\n",
      " |      Return repr(self).\n",
      " |\n",
      " |  atom_monoid_gaps(self)\n",
      " |\n",
      " |  atom_partition(self)\n",
      " |      Returns the atom partition of the given partition.\n",
      " |\n",
      " |      Returns:\n",
      " |          list: The atom partition.\n",
      " |\n",
      " |  conjugate(self)\n",
      " |      Compute the conjugate partition of the partition.\n",
      " |\n",
      " |      Returns:\n",
      " |      Partition: The conjugate partition of the partition.\n",
      " |\n",
      " |  conjugate_list(self)\n",
      " |      Compute the conjugate partition of the partition.\n",
      " |\n",
      " |      Returns:\n",
      " |      list of int: The conjugate partition of the partition.\n",
      " |\n",
      " |  display(self, show_hooks=False)\n",
      " |      Display the hook lengths of the partition in a Ferrers diagram format.\n",
      " |\n",
      " |  gaps(self)\n",
      " |      Compute the gaps in the profile of the partition.\n",
      " |\n",
      " |      Returns:\n",
      " |      list of int: A list of gaps in the profile.\n",
      " |\n",
      " |  hook_lengths(self)\n",
      " |      Compute the hook length of a cell in the partition.\n",
      " |      Returns:\n",
      " |      list of int: A list of hook lengths for each cell in the partition.\n",
      " |\n",
      " |  is_semigroup(self)\n",
      " |\n",
      " |  non_gaps(self)\n",
      " |\n",
      " |  profile(self)\n",
      " |      Compute the profile of the partition as a series of moves (Right and Up).\n",
      " |\n",
      " |      Returns:\n",
      " |      list of str: A list of moves representing the profile of the partition.\n",
      " |\n",
      " |  ----------------------------------------------------------------------\n",
      " |  Static methods defined here:\n",
      " |\n",
      " |  __new__(cls, partition)\n",
      " |      Create and return a new object.  See help(type) for accurate signature.\n",
      " |\n",
      " |  ----------------------------------------------------------------------\n",
      " |  Readonly properties defined here:\n",
      " |\n",
      " |  partition\n",
      " |\n",
      " |  ----------------------------------------------------------------------\n",
      " |  Data descriptors defined here:\n",
      " |\n",
      " |  __dict__\n",
      " |      dictionary for instance variables (if defined)\n",
      " |\n",
      " |  __weakref__\n",
      " |      list of weak references to the object (if defined)\n",
      " |\n",
      " |  ----------------------------------------------------------------------\n",
      " |  Data and other attributes defined here:\n",
      " |\n",
      " |  __annotations__ = {'_instances': <class 'dict'>}\n",
      "\n"
     ]
    }
   ],
   "source": [
    "help(Partition([5,3,2]))"
   ]
  },
  {
   "cell_type": "code",
   "execution_count": null,
   "metadata": {},
   "outputs": [],
   "source": []
  }
 ],
 "metadata": {
  "kernelspec": {
   "display_name": "mathpy",
   "language": "python",
   "name": "python3"
  },
  "language_info": {
   "codemirror_mode": {
    "name": "ipython",
    "version": 3
   },
   "file_extension": ".py",
   "mimetype": "text/x-python",
   "name": "python",
   "nbconvert_exporter": "python",
   "pygments_lexer": "ipython3",
   "version": "3.12.0"
  }
 },
 "nbformat": 4,
 "nbformat_minor": 2
}
