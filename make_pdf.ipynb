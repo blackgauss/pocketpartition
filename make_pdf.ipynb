{
 "cells": [
  {
   "cell_type": "code",
   "execution_count": 1,
   "metadata": {},
   "outputs": [],
   "source": [
    "from src.pocketpartition.core.numerical_semigroup import NumericalSemigroup\n",
    "from src.pocketpartition.core.random_numerical import RandomNumericalSemigroupWithGenus\n",
    "from src.pocketpartition.core.partition import Partition\n",
    "from src.pocketpartition.core.numerical_functions import get_partition, get_gap_poset, get_void_poset\n",
    "from src.pocketpartition.visualization.tex import generate_content_pages, wrap_with_headers_footers, wrap_with_section\n",
    "from src.pocketpartition.visualization.tikz import generate_latex_table\n",
    "from src.pocketpartition.core.genus import WithGenus"
   ]
  },
  {
   "cell_type": "code",
   "execution_count": 2,
   "metadata": {},
   "outputs": [],
   "source": [
    "def get_info(S):\n",
    "    subsections =[ {'title': 'Invariants'}, {'title': 'Partition'}, {'title': 'Gap Poset'}, {'title': 'Void Poset'}]\n",
    "    data = {'g': len(S.gaps), 'F': S.frobenius_number, 'm': S.multiplicity(), 'ewt': S.effective_weight(), 't': S.type(), '\\\\(|M|\\\\)': len(S.void()), '\\\\(|\\\\lambda|\\\\)': sum(S.partition())}\n",
    "    partition = get_partition(S)\n",
    "    gap_poset = get_gap_poset(S)\n",
    "    void_poset = get_void_poset(S)\n",
    "    gap_input = (gap_poset.elements, gap_poset.cover_relations())\n",
    "    void_input = (void_poset.elements, void_poset.cover_relations())\n",
    "    return generate_content_pages(f\"{S.minimal_generating_set()}\", subsections, data, partition.hook_lengths(), gap_input, void_input)"
   ]
  },
  {
   "cell_type": "code",
   "execution_count": null,
   "metadata": {},
   "outputs": [],
   "source": [
    "S = NumericalSemigroup(generators={7, 11, 13})"
   ]
  },
  {
   "cell_type": "code",
   "execution_count": null,
   "metadata": {},
   "outputs": [],
   "source": [
    "print(wrap_with_headers_footers(get_info(S)))"
   ]
  },
  {
   "cell_type": "code",
   "execution_count": null,
   "metadata": {},
   "outputs": [],
   "source": [
    "samples = [RandomNumericalSemigroupWithGenus(10) for _ in range(10)]"
   ]
  },
  {
   "cell_type": "code",
   "execution_count": null,
   "metadata": {},
   "outputs": [],
   "source": [
    "document = ''\n",
    "for sample in samples:\n",
    "    document += '\\\\newpage'\n",
    "    document += get_info(sample)\n",
    "final = wrap_with_headers_footers(document)"
   ]
  },
  {
   "cell_type": "code",
   "execution_count": null,
   "metadata": {},
   "outputs": [],
   "source": [
    "with open(\"document.tex\", \"w\") as file:\n",
    "    file.write(final)"
   ]
  },
  {
   "cell_type": "code",
   "execution_count": 3,
   "metadata": {},
   "outputs": [],
   "source": [
    "document = ''\n",
    "for g in range (1, 7):\n",
    "    document += \"\\\\newpage\\n\"\n",
    "    document += \"\\\\section{\" + f\"Genus {g}\" + \"}\\n\"\n",
    "    samples = WithGenus(g)\n",
    "    for sample in samples:\n",
    "        document += '\\\\newpage'\n",
    "        document += get_info(sample)"
   ]
  },
  {
   "cell_type": "code",
   "execution_count": 4,
   "metadata": {},
   "outputs": [],
   "source": [
    "final = wrap_with_headers_footers(document)\n",
    "with open(\"document.tex\", \"w\") as file:\n",
    "    file.write(final)"
   ]
  },
  {
   "cell_type": "code",
   "execution_count": null,
   "metadata": {},
   "outputs": [],
   "source": []
  }
 ],
 "metadata": {
  "kernelspec": {
   "display_name": "mathpy",
   "language": "python",
   "name": "python3"
  },
  "language_info": {
   "codemirror_mode": {
    "name": "ipython",
    "version": 3
   },
   "file_extension": ".py",
   "mimetype": "text/x-python",
   "name": "python",
   "nbconvert_exporter": "python",
   "pygments_lexer": "ipython3",
   "version": "3.12.0"
  }
 },
 "nbformat": 4,
 "nbformat_minor": 2
}
