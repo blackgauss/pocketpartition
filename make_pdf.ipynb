{
 "cells": [
  {
   "cell_type": "code",
   "execution_count": 1,
   "metadata": {},
   "outputs": [],
   "source": [
    "from src.pocketpartition.core.numerical_semigroup import NumericalSemigroup\n",
    "from src.pocketpartition.core.partition import Partition\n",
    "from src.pocketpartition.core.numerical_functions import get_partition, get_gap_poset, get_void_poset\n",
    "from src.pocketpartition.visualization.tex import generate_content_pages, wrap_with_headers_footers, wrap_with_section\n",
    "from src.pocketpartition.visualization.tikz import generate_latex_table"
   ]
  },
  {
   "cell_type": "code",
   "execution_count": 2,
   "metadata": {},
   "outputs": [],
   "source": [
    "def get_info(S):\n",
    "    subsections =[ {'title': 'Invariants'}, {'title': 'Partition'}, {'title': 'Gap Poset'}, {'title': 'Void Poset'}]\n",
    "    data = {'g': len(S.gaps), 'F': S.frobenius_number, 'm': S.multiplicity(), 'ewt': S.effective_weight(), 't': S.type(), '$|M|$': len(S.void()), 'Sz': sum(S.partition())}\n",
    "    partition = get_partition(S)\n",
    "    gap_poset = get_gap_poset(S)\n",
    "    void_poset = get_void_poset(S)\n",
    "    gap_input = (gap_poset.elements, gap_poset.cover_relations())\n",
    "    void_input = (void_poset.elements, void_poset.cover_relations())\n",
    "    return generate_content_pages(f\"Label:{S.minimal_generating_set()}\", subsections, data, partition.hook_lengths(), gap_input, void_input)"
   ]
  },
  {
   "cell_type": "code",
   "execution_count": 3,
   "metadata": {},
   "outputs": [],
   "source": [
    "S = NumericalSemigroup(generators={7, 11, 13})"
   ]
  },
  {
   "cell_type": "code",
   "execution_count": 7,
   "metadata": {},
   "outputs": [
    {
     "data": {
      "text/plain": [
       "'\\\\subsection{Label: Label:[3, 4]}\\n\\\\subsubsection*{Invariants}\\n\\\\begin{tabular}{|c|c|c|c|c|c|c|}\\n\\\\toprule\\ng & F & m & ewt & t & $|M|$ & Sz \\\\\\\\\\n\\\\midrule\\n3 & 5 & 3 & 2 & 1 & 0 & 5 \\\\\\\\\\n\\\\bottomrule\\n\\\\end{tabular}\\n\\\\subsubsection*{Partition}\\n\\\\begin{tikzpicture}[scale=0.5]\\n  \\\\node[draw, minimum size=0.5cm, anchor=center] at (0, 0) {5};\\n  \\\\node[draw, minimum size=0.5cm, anchor=center] at (1, 0) {2};\\n  \\\\node[draw, minimum size=0.5cm, anchor=center] at (2, 0) {1};\\n  \\\\node[draw, minimum size=0.5cm, anchor=center] at (0, -1) {2};\\n  \\\\node[draw, minimum size=0.5cm, anchor=center] at (0, -2) {1};\\n\\\\end{tikzpicture}\\n\\\\subsubsection*{Gap Poset}\\n\\\\begin{tikzpicture}[scale=1, transform shape]\\n  \\\\node (1) at (0,-2) {1};\\n  \\\\node (2) at (2,-2) {2};\\n  \\\\node[draw, rectangle] (5) at (0,0) {5};\\n  % Draw the cover relations\\n  \\\\draw (5) -- (1);\\n  \\\\draw (5) -- (2);\\n\\\\end{tikzpicture}\\n\\\\subsubsection*{Void Poset}\\n'"
      ]
     },
     "execution_count": 7,
     "metadata": {},
     "output_type": "execute_result"
    }
   ],
   "source": [
    "get_info(S)"
   ]
  },
  {
   "cell_type": "code",
   "execution_count": 3,
   "metadata": {},
   "outputs": [
    {
     "data": {
      "text/plain": [
       "'\\\\documentclass{standalone}\\n\\\\usepackage{booktabs}\\n\\\\begin{document}\\n\\\\begin{tabular}{|c|c|c|c|c|c|c|}\\n\\\\toprule\\ng & F & m & ewt & t & $|M|$ & Sz \\\\\\\\\\n\\\\midrule\\n3 & 5 & 3 & 2 & 1 & 0 & 5 \\\\\\\\\\n\\\\bottomrule\\n\\\\end{tabular}\\n\\\\end{document}\\n'"
      ]
     },
     "execution_count": 3,
     "metadata": {},
     "output_type": "execute_result"
    }
   ],
   "source": [
    "generate_latex_table(data)"
   ]
  },
  {
   "cell_type": "code",
   "execution_count": 3,
   "metadata": {},
   "outputs": [],
   "source": [
    "content = generate_content_pages('Test', subsections, data, partition.hook_lengths(), gap_input, void_input)"
   ]
  },
  {
   "cell_type": "code",
   "execution_count": 4,
   "metadata": {},
   "outputs": [
    {
     "name": "stdout",
     "output_type": "stream",
     "text": [
      "\\documentclass{article}\n",
      "\\usepackage{geometry}\n",
      "\\usepackage{booktabs}\n",
      "\\usepackage{tikz}\n",
      "\\usepackage{hyperref}\n",
      "\\usepackage{fancyhdr}\n",
      "\\geometry{margin=1in}\n",
      "\\pagestyle{fancy}\n",
      "\\fancyhf{}\n",
      "\\fancyhead[L]{Header}\n",
      "\\fancyfoot[C]{\\thepage}\n",
      "\\begin{document}\n",
      "\\tableofcontents\n",
      "\\newpage\n",
      "\\subsection{Label: Label:[7, 11, 13]}\n",
      "\\subsubsection*{Invariants}\n",
      "\\begin{tabular}{|c|c|c|c|c|c|c|}\n",
      "\\toprule\n",
      "g & F & m & ewt & t & $|M|$ & Sz \\\\\n",
      "\\midrule\n",
      "16 & 30 & 7 & 23 & 2 & 1 & 60 \\\\\n",
      "\\bottomrule\n",
      "\\end{tabular}\n",
      "\\subsubsection*{Partition}\n",
      "\\begin{tikzpicture}[scale=0.5]\n",
      "  \\node[draw, minimum size=0.5cm, anchor=center] at (0, 0) {};\n",
      "  \\node[draw, minimum size=0.5cm, anchor=center] at (1, 0) {};\n",
      "  \\node[draw, minimum size=0.5cm, anchor=center] at (2, 0) {};\n",
      "  \\node[draw, minimum size=0.5cm, anchor=center] at (3, 0) {};\n",
      "  \\node[draw, minimum size=0.5cm, anchor=center] at (4, 0) {};\n",
      "  \\node[draw, minimum size=0.5cm, anchor=center] at (5, 0) {};\n",
      "  \\node[draw, minimum size=0.5cm, anchor=center] at (6, 0) {};\n",
      "  \\node[draw, minimum size=0.5cm, anchor=center] at (7, 0) {};\n",
      "  \\node[draw, minimum size=0.5cm, anchor=center] at (8, 0) {};\n",
      "  \\node[draw, minimum size=0.5cm, anchor=center] at (9, 0) {};\n",
      "  \\node[draw, minimum size=0.5cm, anchor=center] at (10, 0) {};\n",
      "  \\node[draw, minimum size=0.5cm, anchor=center] at (11, 0) {};\n",
      "  \\node[draw, minimum size=0.5cm, anchor=center] at (12, 0) {};\n",
      "  \\node[draw, minimum size=0.5cm, anchor=center] at (13, 0) {};\n",
      "  \\node[draw, minimum size=0.5cm, anchor=center] at (14, 0) {};\n",
      "  \\node[draw, minimum size=0.5cm, anchor=center] at (0, -1) {};\n",
      "  \\node[draw, minimum size=0.5cm, anchor=center] at (1, -1) {};\n",
      "  \\node[draw, minimum size=0.5cm, anchor=center] at (2, -1) {};\n",
      "  \\node[draw, minimum size=0.5cm, anchor=center] at (3, -1) {};\n",
      "  \\node[draw, minimum size=0.5cm, anchor=center] at (4, -1) {};\n",
      "  \\node[draw, minimum size=0.5cm, anchor=center] at (5, -1) {};\n",
      "  \\node[draw, minimum size=0.5cm, anchor=center] at (6, -1) {};\n",
      "  \\node[draw, minimum size=0.5cm, anchor=center] at (7, -1) {};\n",
      "  \\node[draw, minimum size=0.5cm, anchor=center] at (8, -1) {};\n",
      "  \\node[draw, minimum size=0.5cm, anchor=center] at (0, -2) {};\n",
      "  \\node[draw, minimum size=0.5cm, anchor=center] at (1, -2) {};\n",
      "  \\node[draw, minimum size=0.5cm, anchor=center] at (2, -2) {};\n",
      "  \\node[draw, minimum size=0.5cm, anchor=center] at (3, -2) {};\n",
      "  \\node[draw, minimum size=0.5cm, anchor=center] at (4, -2) {};\n",
      "  \\node[draw, minimum size=0.5cm, anchor=center] at (5, -2) {};\n",
      "  \\node[draw, minimum size=0.5cm, anchor=center] at (0, -3) {};\n",
      "  \\node[draw, minimum size=0.5cm, anchor=center] at (1, -3) {};\n",
      "  \\node[draw, minimum size=0.5cm, anchor=center] at (2, -3) {};\n",
      "  \\node[draw, minimum size=0.5cm, anchor=center] at (3, -3) {};\n",
      "  \\node[draw, minimum size=0.5cm, anchor=center] at (4, -3) {};\n",
      "  \\node[draw, minimum size=0.5cm, anchor=center] at (0, -4) {};\n",
      "  \\node[draw, minimum size=0.5cm, anchor=center] at (1, -4) {};\n",
      "  \\node[draw, minimum size=0.5cm, anchor=center] at (2, -4) {};\n",
      "  \\node[draw, minimum size=0.5cm, anchor=center] at (3, -4) {};\n",
      "  \\node[draw, minimum size=0.5cm, anchor=center] at (4, -4) {};\n",
      "  \\node[draw, minimum size=0.5cm, anchor=center] at (0, -5) {};\n",
      "  \\node[draw, minimum size=0.5cm, anchor=center] at (1, -5) {};\n",
      "  \\node[draw, minimum size=0.5cm, anchor=center] at (2, -5) {};\n",
      "  \\node[draw, minimum size=0.5cm, anchor=center] at (3, -5) {};\n",
      "  \\node[draw, minimum size=0.5cm, anchor=center] at (4, -5) {};\n",
      "  \\node[draw, minimum size=0.5cm, anchor=center] at (0, -6) {};\n",
      "  \\node[draw, minimum size=0.5cm, anchor=center] at (1, -6) {};\n",
      "  \\node[draw, minimum size=0.5cm, anchor=center] at (2, -6) {};\n",
      "  \\node[draw, minimum size=0.5cm, anchor=center] at (0, -7) {};\n",
      "  \\node[draw, minimum size=0.5cm, anchor=center] at (1, -7) {};\n",
      "  \\node[draw, minimum size=0.5cm, anchor=center] at (0, -8) {};\n",
      "  \\node[draw, minimum size=0.5cm, anchor=center] at (1, -8) {};\n",
      "  \\node[draw, minimum size=0.5cm, anchor=center] at (0, -9) {};\n",
      "  \\node[draw, minimum size=0.5cm, anchor=center] at (1, -9) {};\n",
      "  \\node[draw, minimum size=0.5cm, anchor=center] at (0, -10) {};\n",
      "  \\node[draw, minimum size=0.5cm, anchor=center] at (0, -11) {};\n",
      "  \\node[draw, minimum size=0.5cm, anchor=center] at (0, -12) {};\n",
      "  \\node[draw, minimum size=0.5cm, anchor=center] at (0, -13) {};\n",
      "  \\node[draw, minimum size=0.5cm, anchor=center] at (0, -14) {};\n",
      "  \\node[draw, minimum size=0.5cm, anchor=center] at (0, -15) {};\n",
      "\\end{tikzpicture}\n",
      "\\subsubsection*{Gap Poset}\n",
      "\\begin{tikzpicture}[scale=1, transform shape]\n",
      "  \\node (1) at (0,-6) {1};\n",
      "  \\node (3) at (2,-6) {3};\n",
      "  \\node (5) at (4,-6) {5};\n",
      "  \\node (9) at (6,-6) {9};\n",
      "  \\node (2) at (6,-8) {2};\n",
      "  \\node (4) at (0,-4) {4};\n",
      "  \\node (6) at (2,-4) {6};\n",
      "  \\node (8) at (4,-4) {8};\n",
      "  \\node (10) at (6,-4) {10};\n",
      "  \\node (12) at (8,-4) {12};\n",
      "  \\node (16) at (10,-4) {16};\n",
      "  \\node (15) at (0,0) {15};\n",
      "  \\node[draw, rectangle] (30) at (2,0) {30};\n",
      "  \\node (17) at (0,-2) {17};\n",
      "  \\node (19) at (2,-2) {19};\n",
      "  \\node (23) at (4,-2) {23};\n",
      "  % Draw the cover relations\n",
      "  \\draw (12) -- (1);\n",
      "  \\draw (23) -- (10);\n",
      "  \\draw (23) -- (16);\n",
      "  \\draw (9) -- (2);\n",
      "  \\draw (19) -- (6);\n",
      "  \\draw (17) -- (6);\n",
      "  \\draw (19) -- (12);\n",
      "  \\draw (10) -- (3);\n",
      "  \\draw (15) -- (2);\n",
      "  \\draw (15) -- (8);\n",
      "  \\draw (23) -- (12);\n",
      "  \\draw (19) -- (8);\n",
      "  \\draw (30) -- (17);\n",
      "  \\draw (30) -- (23);\n",
      "  \\draw (15) -- (4);\n",
      "  \\draw (16) -- (3);\n",
      "  \\draw (16) -- (9);\n",
      "  \\draw (12) -- (5);\n",
      "  \\draw (17) -- (4);\n",
      "  \\draw (8) -- (1);\n",
      "  \\draw (17) -- (10);\n",
      "  \\draw (30) -- (19);\n",
      "  \\draw (16) -- (5);\n",
      "\\end{tikzpicture}\n",
      "\\subsubsection*{Void Poset}\n",
      "\\begin{tikzpicture}[scale=1, transform shape]\n",
      "  \\node[draw, rectangle] (15) at (0,0) {15};\n",
      "\\end{tikzpicture}\n",
      "\\end{document}\n",
      "\n"
     ]
    }
   ],
   "source": [
    "print(wrap_with_headers_footers(get_info(S)))"
   ]
  },
  {
   "cell_type": "code",
   "execution_count": null,
   "metadata": {},
   "outputs": [],
   "source": []
  }
 ],
 "metadata": {
  "kernelspec": {
   "display_name": "mathpy",
   "language": "python",
   "name": "python3"
  },
  "language_info": {
   "codemirror_mode": {
    "name": "ipython",
    "version": 3
   },
   "file_extension": ".py",
   "mimetype": "text/x-python",
   "name": "python",
   "nbconvert_exporter": "python",
   "pygments_lexer": "ipython3",
   "version": "3.12.0"
  }
 },
 "nbformat": 4,
 "nbformat_minor": 2
}
