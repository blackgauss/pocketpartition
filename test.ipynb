{
 "cells": [
  {
   "cell_type": "code",
   "execution_count": 1,
   "metadata": {},
   "outputs": [],
   "source": [
    "from src.pocketpartition.core.numerical_set import NumericalSet\n",
    "from src.pocketpartition.core.numerical_semigroup import NumericalSemigroup\n",
    "from src.pocketpartition.core.partition import Partition\n",
    "from src.pocketpartition.core.random_numerical import RandomNumericalSemigroupWithGenus\n",
    "from src.pocketpartition.core.numerical_functions import get_atom_monoid, get_partition, get_gap_poset, get_void_poset\n",
    "from src.pocketpartition.visualization.tikz import generate_hasse_tikz, generate_ferrers_tikz, generate_latex_table"
   ]
  },
  {
   "cell_type": "code",
   "execution_count": 4,
   "metadata": {},
   "outputs": [
    {
     "name": "stdout",
     "output_type": "stream",
     "text": [
      "\\documentclass{standalone}\n",
      "\\usepackage{booktabs}\n",
      "\\begin{document}\n",
      "\\begin{tabular}{|c|c|c|}\n",
      "\\toprule\n",
      "Label 1 & Label 2 & Label 3 \\\\\n",
      "\\midrule\n",
      "Value 1 & Value 2 & Value 3 \\\\\n",
      "\\bottomrule\n",
      "\\end{tabular}\n",
      "\\end{document}\n",
      "\n"
     ]
    }
   ],
   "source": [
    "# Example usage\n",
    "data = {'Label 1': 'Value 1', 'Label 2': 'Value 2', 'Label 3': 'Value 3'}\n",
    "latex_table_code = generate_latex_table(data)\n",
    "print(latex_table_code)"
   ]
  },
  {
   "cell_type": "code",
   "execution_count": 4,
   "metadata": {},
   "outputs": [
    {
     "name": "stdout",
     "output_type": "stream",
     "text": [
      "\\documentclass{standalone}\n",
      "\\usepackage{tikz}\n",
      "\\begin{document}\n",
      "\\begin{tikzpicture}[scale=0.5]\n",
      "  \\node[draw, minimum size=0.5cm, anchor=center] at (0, 0) {5};\n",
      "  \\node[draw, minimum size=0.5cm, anchor=center] at (1, 0) {3};\n",
      "  \\node[draw, minimum size=0.5cm, anchor=center] at (2, 0) {1};\n",
      "  \\node[draw, minimum size=0.5cm, anchor=center] at (0, -1) {3};\n",
      "  \\node[draw, minimum size=0.5cm, anchor=center] at (1, -1) {1};\n",
      "  \\node[draw, minimum size=0.5cm, anchor=center] at (0, -2) {1};\n",
      "\\end{tikzpicture}\n",
      "\\end{document}\n",
      "\n"
     ]
    }
   ],
   "source": [
    "print(generate_ferrers_tikz(Partition([3,2,1]).hook_lengths()))"
   ]
  },
  {
   "cell_type": "code",
   "execution_count": 2,
   "metadata": {},
   "outputs": [],
   "source": [
    "T = NumericalSet(gaps=(list(range(5, 15)) + list(range(57, 95))))"
   ]
  },
  {
   "cell_type": "code",
   "execution_count": 3,
   "metadata": {},
   "outputs": [],
   "source": [
    "S = atom_monoid(T)"
   ]
  },
  {
   "cell_type": "code",
   "execution_count": 8,
   "metadata": {},
   "outputs": [],
   "source": [
    "l = Partition([5,3,2,1])"
   ]
  },
  {
   "cell_type": "code",
   "execution_count": 9,
   "metadata": {},
   "outputs": [
    {
     "name": "stdout",
     "output_type": "stream",
     "text": [
      "8 6 4 2 1\n",
      "5 3 1\n",
      "3 1  \n",
      "1    \n"
     ]
    }
   ],
   "source": [
    "l.display()"
   ]
  },
  {
   "cell_type": "code",
   "execution_count": 2,
   "metadata": {},
   "outputs": [],
   "source": [
    "S = NumericalSemigroup(gaps={1,2,4,5,7})"
   ]
  },
  {
   "cell_type": "code",
   "execution_count": 3,
   "metadata": {},
   "outputs": [
    {
     "data": {
      "text/plain": [
       "{(4, 1), (5, 2), (7, 4)}"
      ]
     },
     "execution_count": 3,
     "metadata": {},
     "output_type": "execute_result"
    }
   ],
   "source": [
    "gap_poset(S).cover_relations()"
   ]
  },
  {
   "cell_type": "code",
   "execution_count": 7,
   "metadata": {},
   "outputs": [
    {
     "data": {
      "text/plain": [
       "3"
      ]
     },
     "execution_count": 7,
     "metadata": {},
     "output_type": "execute_result"
    }
   ],
   "source": [
    "S.effective_weight()"
   ]
  },
  {
   "cell_type": "code",
   "execution_count": 4,
   "metadata": {},
   "outputs": [
    {
     "data": {
      "text/plain": [
       "frozenset({(1, 1),\n",
       "           (2, 2),\n",
       "           (4, 1),\n",
       "           (4, 4),\n",
       "           (5, 2),\n",
       "           (5, 5),\n",
       "           (7, 1),\n",
       "           (7, 4),\n",
       "           (7, 7)})"
      ]
     },
     "execution_count": 4,
     "metadata": {},
     "output_type": "execute_result"
    }
   ],
   "source": [
    "gap_poset(S).relations"
   ]
  },
  {
   "cell_type": "code",
   "execution_count": 5,
   "metadata": {},
   "outputs": [
    {
     "name": "stdout",
     "output_type": "stream",
     "text": [
      "\\begin{tikzpicture}[scale=1, transform shape]\n",
      "  \\node (a) at (0,0) {a};\n",
      "  \\node (b) at (2,2) {b};\n",
      "  \\node (c) at (4,4) {c};\n",
      "  \\node (d) at (6,6) {d};\n",
      "  % Draw the cover relations\n",
      "  \\draw (a) -- (b);\n",
      "  \\draw (b) -- (d);\n",
      "  \\draw (c) -- (b);\n",
      "\\end{tikzpicture}\n",
      "\\end{document}\n",
      "\n"
     ]
    }
   ],
   "source": [
    "\n",
    "# Example usage\n",
    "elements = [\"a\", \"b\", \"c\", \"d\"]\n",
    "relations = [(\"a\", \"b\"), (\"b\", \"d\"), (\"c\", \"b\")]\n",
    "\n",
    "tikz_code = generate_hasse_tikz(elements, relations)\n",
    "print(tikz_code)\n"
   ]
  },
  {
   "cell_type": "code",
   "execution_count": 2,
   "metadata": {},
   "outputs": [],
   "source": [
    "S = RandomNumericalSemigroupWithGenus(10)\n",
    "G = get_gap_poset(S)\n",
    "elements, relations = G.elements, G.cover_relations()"
   ]
  },
  {
   "cell_type": "code",
   "execution_count": 9,
   "metadata": {},
   "outputs": [
    {
     "data": {
      "text/plain": [
       "{(4, 1), (5, 2), (7, 4)}"
      ]
     },
     "execution_count": 9,
     "metadata": {},
     "output_type": "execute_result"
    }
   ],
   "source": [
    "relations"
   ]
  },
  {
   "cell_type": "code",
   "execution_count": 3,
   "metadata": {},
   "outputs": [
    {
     "data": {
      "text/plain": [
       "[(1, 1), (4, 1), (7, 1), (2, 2), (5, 2), (4, 4), (7, 4), (5, 5), (7, 7)]"
      ]
     },
     "execution_count": 3,
     "metadata": {},
     "output_type": "execute_result"
    }
   ],
   "source": [
    "relations"
   ]
  },
  {
   "cell_type": "code",
   "execution_count": 2,
   "metadata": {},
   "outputs": [
    {
     "name": "stdout",
     "output_type": "stream",
     "text": [
      "\\documentclass{standalone}\n",
      "\\usepackage{tikz}\n",
      "\\begin{document}\n",
      "\\begin{tikzpicture}[scale=1, transform shape]\n",
      "  \\node (1) at (0,-4) {1};\n",
      "  \\node (2) at (2,-4) {2};\n",
      "  \\node (3) at (0,-2) {3};\n",
      "  \\node (4) at (2,-2) {4};\n",
      "  \\node (5) at (4,-2) {5};\n",
      "  \\node (11) at (6,-2) {11};\n",
      "  \\node (7) at (0,0) {7};\n",
      "  \\node (8) at (2,0) {8};\n",
      "  \\node (10) at (4,0) {10};\n",
      "  \\node[draw, rectangle] (17) at (6,0) {17};\n",
      "  % Draw the cover relations\n",
      "  \\draw (7) -- (4);\n",
      "  \\draw (5) -- (2);\n",
      "  \\draw (10) -- (3);\n",
      "  \\draw (2) -- (5);\n",
      "  \\draw (4) -- (1);\n",
      "  \\draw (8) -- (11);\n",
      "  \\draw (17) -- (4);\n",
      "\\end{tikzpicture}\n",
      "\\end{document}\n",
      "\n"
     ]
    }
   ],
   "source": [
    "# Example usage\n",
    "elements = frozenset({1, 2, 4, 5, 7, 10, 3, 8, 11, 17})\n",
    "relations = {(4, 1), (5, 2), (7, 4), (10, 3), (17, 4), (8, 11), (2, 5)}\n",
    "\n",
    "tikz_code = generate_tikz(list(elements), relations)\n",
    "print(tikz_code)\n"
   ]
  },
  {
   "cell_type": "code",
   "execution_count": 2,
   "metadata": {},
   "outputs": [
    {
     "name": "stdout",
     "output_type": "stream",
     "text": [
      "\\documentclass{standalone}\n",
      "\\usepackage{tikz}\n",
      "\\begin{document}\n",
      "\\begin{tikzpicture}[scale=1, transform shape]\n",
      "  \\node (1) at (0,-8) {1};\n",
      "  \\node (5) at (2,-8) {5};\n",
      "  \\node (9) at (4,-8) {9};\n",
      "  \\node (2) at (4,-10) {2};\n",
      "  \\node (3) at (0,-4) {3};\n",
      "  \\node (13) at (2,-4) {13};\n",
      "  \\node (15) at (4,-4) {15};\n",
      "  \\node (19) at (6,-4) {19};\n",
      "  \\node (23) at (8,-4) {23};\n",
      "  \\node (4) at (0,-6) {4};\n",
      "  \\node (6) at (2,-6) {6};\n",
      "  \\node (8) at (4,-6) {8};\n",
      "  \\node (12) at (6,-6) {12};\n",
      "  \\node (16) at (8,-6) {16};\n",
      "  \\node (10) at (0,-2) {10};\n",
      "  \\node (20) at (2,-2) {20};\n",
      "  \\node (26) at (4,-2) {26};\n",
      "  \\node (30) at (6,-2) {30};\n",
      "  \\node (27) at (0,0) {27};\n",
      "  \\node[draw, rectangle] (37) at (2,0) {37};\n",
      "  % Draw the cover relations\n",
      "  \\draw (12) -- (1);\n",
      "  \\draw (23) -- (16);\n",
      "  \\draw (9) -- (2);\n",
      "  \\draw (27) -- (10);\n",
      "  \\draw (27) -- (16);\n",
      "  \\draw (37) -- (30);\n",
      "  \\draw (13) -- (2);\n",
      "  \\draw (10) -- (3);\n",
      "  \\draw (19) -- (12);\n",
      "  \\draw (15) -- (8);\n",
      "  \\draw (20) -- (13);\n",
      "  \\draw (23) -- (6);\n",
      "  \\draw (23) -- (12);\n",
      "  \\draw (19) -- (2);\n",
      "  \\draw (37) -- (20);\n",
      "  \\draw (37) -- (26);\n",
      "  \\draw (19) -- (8);\n",
      "  \\draw (30) -- (23);\n",
      "  \\draw (15) -- (4);\n",
      "  \\draw (16) -- (9);\n",
      "  \\draw (20) -- (3);\n",
      "  \\draw (20) -- (9);\n",
      "  \\draw (26) -- (19);\n",
      "  \\draw (12) -- (5);\n",
      "  \\draw (8) -- (1);\n",
      "  \\draw (30) -- (13);\n",
      "  \\draw (27) -- (20);\n",
      "  \\draw (30) -- (19);\n",
      "  \\draw (16) -- (5);\n",
      "  \\draw (13) -- (6);\n",
      "  \\draw (26) -- (9);\n",
      "  \\draw (26) -- (15);\n",
      "\\end{tikzpicture}\n",
      "\\end{document}\n",
      "\n"
     ]
    }
   ],
   "source": [
    "S = NumericalSemigroup(generators=[7,11,17])\n",
    "G = get_gap_poset(S)\n",
    "print(generate_tikz(G.elements, G.cover_relations()))"
   ]
  },
  {
   "cell_type": "code",
   "execution_count": 3,
   "metadata": {},
   "outputs": [
    {
     "data": {
      "text/plain": [
       "37"
      ]
     },
     "execution_count": 3,
     "metadata": {},
     "output_type": "execute_result"
    }
   ],
   "source": [
    "S.frobenius_number"
   ]
  },
  {
   "cell_type": "code",
   "execution_count": 6,
   "metadata": {},
   "outputs": [
    {
     "name": "stdout",
     "output_type": "stream",
     "text": [
      "\\documentclass{standalone}\n",
      "\\usepackage{tikz}\n",
      "\\begin{document}\n",
      "\\begin{tikzpicture}[scale=1, transform shape]\n",
      "  \\node (8) at (0,0) {8};\n",
      "  \\node (10) at (2,0) {10};\n",
      "  \\node (5) at (4,0) {5};\n",
      "  \\node (7) at (6,0) {7};\n",
      "  % Draw the cover relations\n",
      "\\end{tikzpicture}\n",
      "\\end{document}\n",
      "\n"
     ]
    }
   ],
   "source": [
    "G = get_void_poset(S)\n",
    "print(generate_tikz(G.elements, G.cover_relations()))"
   ]
  },
  {
   "cell_type": "code",
   "execution_count": 13,
   "metadata": {},
   "outputs": [
    {
     "data": {
      "text/plain": [
       "(frozenset({1, 2, 4, 5, 7}), {(4, 1), (5, 2), (7, 4)})"
      ]
     },
     "execution_count": 13,
     "metadata": {},
     "output_type": "execute_result"
    }
   ],
   "source": [
    "(elements, relations)"
   ]
  },
  {
   "cell_type": "code",
   "execution_count": null,
   "metadata": {},
   "outputs": [],
   "source": []
  }
 ],
 "metadata": {
  "kernelspec": {
   "display_name": "mathpy",
   "language": "python",
   "name": "python3"
  },
  "language_info": {
   "codemirror_mode": {
    "name": "ipython",
    "version": 3
   },
   "file_extension": ".py",
   "mimetype": "text/x-python",
   "name": "python",
   "nbconvert_exporter": "python",
   "pygments_lexer": "ipython3",
   "version": "3.12.0"
  }
 },
 "nbformat": 4,
 "nbformat_minor": 2
}
